{
  "nbformat": 4,
  "nbformat_minor": 0,
  "metadata": {
    "colab": {
      "provenance": [],
      "authorship_tag": "ABX9TyP14OTf/+GmYKq/ciRcG+ET",
      "include_colab_link": true
    },
    "kernelspec": {
      "name": "python3",
      "display_name": "Python 3"
    },
    "language_info": {
      "name": "python"
    }
  },
  "cells": [
    {
      "cell_type": "markdown",
      "metadata": {
        "id": "view-in-github",
        "colab_type": "text"
      },
      "source": [
        "<a href=\"https://colab.research.google.com/github/Seanzhengocean1/DS_Week6/blob/main/_Day_27_06072023_A_excerciese_in_class.ipynb\" target=\"_parent\"><img src=\"https://colab.research.google.com/assets/colab-badge.svg\" alt=\"Open In Colab\"/></a>"
      ]
    },
    {
      "cell_type": "code",
      "execution_count": 1,
      "metadata": {
        "colab": {
          "base_uri": "https://localhost:8080/"
        },
        "id": "N2XntHjqEUZH",
        "outputId": "22015c76-a3c2-49bd-9946-207312a67b89"
      },
      "outputs": [
        {
          "output_type": "stream",
          "name": "stdout",
          "text": [
            "[[1.0 0.0 1.0 0.0 1850 2 5 2]\n",
            " [0.0 1.0 0.0 1.0 1600 2 10 2]\n",
            " [1.0 0.0 1.0 0.0 1500 2 15 3]\n",
            " [0.0 1.0 0.0 1.0 2000 2 3 2]\n",
            " [1.0 0.0 0.0 1.0 2000 3 2 4]\n",
            " [0.0 1.0 0.0 1.0 2500 3 4 2]\n",
            " [1.0 0.0 0.0 1.0 2500 3 5 3]\n",
            " [0.0 1.0 0.0 1.0 2500 4 6 3]\n",
            " [1.0 0.0 0.0 1.0 3000 4 7 4]\n",
            " [0.0 1.0 0.0 1.0 3000 4 8 2]\n",
            " [1.0 0.0 0.0 1.0 3200 4 10 4]\n",
            " [0.0 1.0 0.0 1.0 3200 5 9 2]\n",
            " [1.0 0.0 0.0 1.0 4000 5 8 5]\n",
            " [0.0 1.0 0.0 1.0 4500 5 10 4]]\n"
          ]
        },
        {
          "output_type": "execute_result",
          "data": {
            "text/plain": [
              "(array([[0.0, 1.0, 0.0, 0.47140452079103157, 0.5244467974701875,\n",
              "         1.2532566273166255, 0.30794088102571987, -0.7954951288348661],\n",
              "        [1.0, 0.0, 1.0, -2.121320343559643, -1.3086663077059812,\n",
              "         -1.179535649239177, 2.155586167180039, 0.1767766952966367],\n",
              "        [0.0, 1.0, 0.0, 0.47140452079103157, 1.9262391720166694,\n",
              "         1.2532566273166255, 0.6158817620514397, 1.1490485194281395],\n",
              "        [0.0, 1.0, 0.0, 0.47140452079103157, 0.30878643215534407,\n",
              "         0.44232586846469135, 0.0, -0.7954951288348661],\n",
              "        [0.0, 1.0, 0.0, 0.47140452079103157, -1.2008361250485597,\n",
              "         -1.179535649239177, 0.6158817620514397, -0.7954951288348661],\n",
              "        [0.0, 1.0, 0.0, 0.47140452079103157, -0.2303644811317644,\n",
              "         0.44232586846469135, -0.6158817620514397, 0.1767766952966367],\n",
              "        [1.0, 0.0, 0.0, 0.47140452079103157, 0.5244467974701875,\n",
              "         0.44232586846469135, 0.6158817620514397, 1.1490485194281395],\n",
              "        [0.0, 1.0, 0.0, 0.47140452079103157, -0.7695153944188728,\n",
              "         -1.179535649239177, -1.5397044051285993, -0.7954951288348661],\n",
              "        [1.0, 0.0, 1.0, -2.121320343559643, -0.9312606684050054,\n",
              "         -1.179535649239177, -0.9238226430771597, -0.7954951288348661],\n",
              "        [0.0, 1.0, 0.0, 0.47140452079103157, -0.2303644811317644,\n",
              "         -0.36860489038724287, -1.2317635241028795, -0.7954951288348661],\n",
              "        [1.0, 0.0, 0.0, 0.47140452079103157, 1.387088258729561,\n",
              "         1.2532566273166255, 0.0, 2.1213203435596424]], dtype=object),\n",
              " array([[1.0, 0.0, 0.0, 0.47140452079103157, 0.30878643215534407,\n",
              "         0.44232586846469135, -0.30794088102571987, 1.1490485194281395],\n",
              "        [1.0, 0.0, 0.0, 0.47140452079103157, -0.2303644811317644,\n",
              "         -0.36860489038724287, -0.9238226430771597, 0.1767766952966367],\n",
              "        [1.0, 0.0, 0.0, 0.47140452079103157, -0.7695153944188728,\n",
              "         -0.36860489038724287, -1.8476452861543193, 1.1490485194281395]],\n",
              "       dtype=object))"
            ]
          },
          "metadata": {},
          "execution_count": 1
        }
      ],
      "source": [
        "#Day 27 06072023 A-excerciese in class\n",
        "\n",
        "import pandas as pd \n",
        "import numpy as np\n",
        "\n",
        "df_dataset_m=pd.read_csv('/content/preprocessingcsv.csv')\n",
        "df_dataset_m\n",
        "\n",
        "X=df_dataset_m.iloc[:,:-1].values #independent\n",
        "y=df_dataset_m.iloc[:,-1].values #dependent\n",
        "\n",
        "\n",
        "from sklearn.compose import ColumnTransformer # sklearn.compose.ColumnTransformer\n",
        "from sklearn.preprocessing import OneHotEncoder # sklearn.preprocessing.OneHotEncoder\n",
        "ct = ColumnTransformer(transformers=[('encoder', OneHotEncoder(), [3,5])], remainder='passthrough')\n",
        "X = np.array(ct.fit_transform(X))\n",
        "print(X)\n",
        "\n",
        "from sklearn.model_selection import train_test_split\n",
        "# sklearn.model_selection.train_test_split\n",
        "X_train, X_test, y_train, y_test = train_test_split(X, y, test_size=0.2, random_state=0)\n",
        "# X_train, X_test, y_train, y_test \n",
        "\n",
        "\n",
        "from sklearn.preprocessing import StandardScaler\n",
        "sc = StandardScaler()\n",
        "X_train[:,3:] = sc.fit_transform(X_train[:,3:])\n",
        "X_test[:,3:] = sc.transform(X_test[:,3:])\n",
        "\n",
        "X_train,X_test"
      ]
    }
  ]
}