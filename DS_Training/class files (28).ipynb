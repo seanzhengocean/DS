{
  "nbformat": 4,
  "nbformat_minor": 0,
  "metadata": {
    "colab": {
      "provenance": [],
      "include_colab_link": true
    },
    "kernelspec": {
      "name": "python3",
      "display_name": "Python 3"
    },
    "language_info": {
      "name": "python"
    }
  },
  "cells": [
    {
      "cell_type": "markdown",
      "metadata": {
        "id": "view-in-github",
        "colab_type": "text"
      },
      "source": [
        "<a href=\"https://colab.research.google.com/github/Seanzhengocean1/DS_Week4/blob/main/Day17_0523(18MAY)2023_DS_Pandas.ipynb\" target=\"_parent\"><img src=\"https://colab.research.google.com/assets/colab-badge.svg\" alt=\"Open In Colab\"/></a>"
      ]
    },
    {
      "cell_type": "code",
      "execution_count": null,
      "metadata": {
        "id": "7UykUHPL8YAJ"
      },
      "outputs": [],
      "source": [
        "import pandas as pd"
      ]
    },
    {
      "cell_type": "code",
      "source": [
        "df_csv = pd.read_csv('/content/Churn_Modelling.csv')"
      ],
      "metadata": {
        "id": "-Aho2eC5NgBS"
      },
      "execution_count": null,
      "outputs": []
    },
    {
      "cell_type": "code",
      "source": [
        "df_xml = pd.read_xml('/content/churn_modelling_xml.xml')"
      ],
      "metadata": {
        "id": "ls9mOykjadau"
      },
      "execution_count": null,
      "outputs": []
    },
    {
      "cell_type": "code",
      "source": [
        "df_xlsx = pd.read_excel('/content/churn_modelling_xlsx.xlsx')"
      ],
      "metadata": {
        "id": "wzwOxFzEaoh1"
      },
      "execution_count": null,
      "outputs": []
    },
    {
      "cell_type": "code",
      "source": [
        "df_html = pd.read_html('/content/churn_modelling_html.html')"
      ],
      "metadata": {
        "id": "16CQQggma2YU"
      },
      "execution_count": null,
      "outputs": []
    },
    {
      "cell_type": "code",
      "source": [
        "df_json = pd.read_json('/content/churn_modelling_json.json')"
      ],
      "metadata": {
        "id": "P0hsomqRa9ph"
      },
      "execution_count": null,
      "outputs": []
    },
    {
      "cell_type": "code",
      "source": [
        "print(df_csv, df_xml, df_xlsx, df_html, df_json)"
      ],
      "metadata": {
        "colab": {
          "base_uri": "https://localhost:8080/"
        },
        "id": "xrFwTJPaNvQW",
        "outputId": "a4b14249-3da5-48ca-bda5-866274ac3e16"
      },
      "execution_count": null,
      "outputs": [
        {
          "output_type": "stream",
          "name": "stdout",
          "text": [
            "      RowNumber  CustomerId    Surname  CreditScore Geography  Gender  Age  \\\n",
            "0             1    15634602   Hargrave          619    France  Female   42   \n",
            "1             2    15647311       Hill          608     Spain  Female   41   \n",
            "2             3    15619304       Onio          502    France  Female   42   \n",
            "3             4    15701354       Boni          699    France  Female   39   \n",
            "4             5    15737888   Mitchell          850     Spain  Female   43   \n",
            "...         ...         ...        ...          ...       ...     ...  ...   \n",
            "9995       9996    15606229   Obijiaku          771    France    Male   39   \n",
            "9996       9997    15569892  Johnstone          516    France    Male   35   \n",
            "9997       9998    15584532        Liu          709    France  Female   36   \n",
            "9998       9999    15682355  Sabbatini          772   Germany    Male   42   \n",
            "9999      10000    15628319     Walker          792    France  Female   28   \n",
            "\n",
            "      Tenure    Balance  NumOfProducts  HasCrCard  IsActiveMember  \\\n",
            "0          2       0.00              1          1               1   \n",
            "1          1   83807.86              1          0               1   \n",
            "2          8  159660.80              3          1               0   \n",
            "3          1       0.00              2          0               0   \n",
            "4          2  125510.82              1          1               1   \n",
            "...      ...        ...            ...        ...             ...   \n",
            "9995       5       0.00              2          1               0   \n",
            "9996      10   57369.61              1          1               1   \n",
            "9997       7       0.00              1          0               1   \n",
            "9998       3   75075.31              2          1               0   \n",
            "9999       4  130142.79              1          1               0   \n",
            "\n",
            "      EstimatedSalary  Exited  \n",
            "0           101348.88       1  \n",
            "1           112542.58       0  \n",
            "2           113931.57       1  \n",
            "3            93826.63       0  \n",
            "4            79084.10       0  \n",
            "...               ...     ...  \n",
            "9995         96270.64       0  \n",
            "9996        101699.77       0  \n",
            "9997         42085.58       1  \n",
            "9998         92888.52       1  \n",
            "9999         38190.78       0  \n",
            "\n",
            "[10000 rows x 14 columns]       index  RowNumber  CustomerId    Surname  CreditScore Geography  Gender  \\\n",
            "0         0          1    15634602   Hargrave          619    France  Female   \n",
            "1         1          2    15647311       Hill          608     Spain  Female   \n",
            "2         2          3    15619304       Onio          502    France  Female   \n",
            "3         3          4    15701354       Boni          699    France  Female   \n",
            "4         4          5    15737888   Mitchell          850     Spain  Female   \n",
            "...     ...        ...         ...        ...          ...       ...     ...   \n",
            "9995   9995       9996    15606229   Obijiaku          771    France    Male   \n",
            "9996   9996       9997    15569892  Johnstone          516    France    Male   \n",
            "9997   9997       9998    15584532        Liu          709    France  Female   \n",
            "9998   9998       9999    15682355  Sabbatini          772   Germany    Male   \n",
            "9999   9999      10000    15628319     Walker          792    France  Female   \n",
            "\n",
            "      Age  Tenure    Balance  NumOfProducts  HasCrCard  IsActiveMember  \\\n",
            "0      42       2       0.00              1          1               1   \n",
            "1      41       1   83807.86              1          0               1   \n",
            "2      42       8  159660.80              3          1               0   \n",
            "3      39       1       0.00              2          0               0   \n",
            "4      43       2  125510.82              1          1               1   \n",
            "...   ...     ...        ...            ...        ...             ...   \n",
            "9995   39       5       0.00              2          1               0   \n",
            "9996   35      10   57369.61              1          1               1   \n",
            "9997   36       7       0.00              1          0               1   \n",
            "9998   42       3   75075.31              2          1               0   \n",
            "9999   28       4  130142.79              1          1               0   \n",
            "\n",
            "      EstimatedSalary  Exited  \n",
            "0           101348.88       1  \n",
            "1           112542.58       0  \n",
            "2           113931.57       1  \n",
            "3            93826.63       0  \n",
            "4            79084.10       0  \n",
            "...               ...     ...  \n",
            "9995         96270.64       0  \n",
            "9996        101699.77       0  \n",
            "9997         42085.58       1  \n",
            "9998         92888.52       1  \n",
            "9999         38190.78       0  \n",
            "\n",
            "[10000 rows x 15 columns]       Unnamed: 0  RowNumber  CustomerId    Surname  CreditScore Geography  \\\n",
            "0              0          1    15634602   Hargrave          619    France   \n",
            "1              1          2    15647311       Hill          608     Spain   \n",
            "2              2          3    15619304       Onio          502    France   \n",
            "3              3          4    15701354       Boni          699    France   \n",
            "4              4          5    15737888   Mitchell          850     Spain   \n",
            "...          ...        ...         ...        ...          ...       ...   \n",
            "9995        9995       9996    15606229   Obijiaku          771    France   \n",
            "9996        9996       9997    15569892  Johnstone          516    France   \n",
            "9997        9997       9998    15584532        Liu          709    France   \n",
            "9998        9998       9999    15682355  Sabbatini          772   Germany   \n",
            "9999        9999      10000    15628319     Walker          792    France   \n",
            "\n",
            "      Gender  Age  Tenure    Balance  NumOfProducts  HasCrCard  \\\n",
            "0     Female   42       2       0.00              1          1   \n",
            "1     Female   41       1   83807.86              1          0   \n",
            "2     Female   42       8  159660.80              3          1   \n",
            "3     Female   39       1       0.00              2          0   \n",
            "4     Female   43       2  125510.82              1          1   \n",
            "...      ...  ...     ...        ...            ...        ...   \n",
            "9995    Male   39       5       0.00              2          1   \n",
            "9996    Male   35      10   57369.61              1          1   \n",
            "9997  Female   36       7       0.00              1          0   \n",
            "9998    Male   42       3   75075.31              2          1   \n",
            "9999  Female   28       4  130142.79              1          1   \n",
            "\n",
            "      IsActiveMember  EstimatedSalary  Exited  \n",
            "0                  1        101348.88       1  \n",
            "1                  1        112542.58       0  \n",
            "2                  0        113931.57       1  \n",
            "3                  0         93826.63       0  \n",
            "4                  1         79084.10       0  \n",
            "...              ...              ...     ...  \n",
            "9995               0         96270.64       0  \n",
            "9996               1        101699.77       0  \n",
            "9997               1         42085.58       1  \n",
            "9998               0         92888.52       1  \n",
            "9999               0         38190.78       0  \n",
            "\n",
            "[10000 rows x 15 columns] [      Unnamed: 0  RowNumber  CustomerId    Surname  CreditScore Geography  \\\n",
            "0              0          1    15634602   Hargrave          619    France   \n",
            "1              1          2    15647311       Hill          608     Spain   \n",
            "2              2          3    15619304       Onio          502    France   \n",
            "3              3          4    15701354       Boni          699    France   \n",
            "4              4          5    15737888   Mitchell          850     Spain   \n",
            "...          ...        ...         ...        ...          ...       ...   \n",
            "9995        9995       9996    15606229   Obijiaku          771    France   \n",
            "9996        9996       9997    15569892  Johnstone          516    France   \n",
            "9997        9997       9998    15584532        Liu          709    France   \n",
            "9998        9998       9999    15682355  Sabbatini          772   Germany   \n",
            "9999        9999      10000    15628319     Walker          792    France   \n",
            "\n",
            "      Gender  Age  Tenure    Balance  NumOfProducts  HasCrCard  \\\n",
            "0     Female   42       2       0.00              1          1   \n",
            "1     Female   41       1   83807.86              1          0   \n",
            "2     Female   42       8  159660.80              3          1   \n",
            "3     Female   39       1       0.00              2          0   \n",
            "4     Female   43       2  125510.82              1          1   \n",
            "...      ...  ...     ...        ...            ...        ...   \n",
            "9995    Male   39       5       0.00              2          1   \n",
            "9996    Male   35      10   57369.61              1          1   \n",
            "9997  Female   36       7       0.00              1          0   \n",
            "9998    Male   42       3   75075.31              2          1   \n",
            "9999  Female   28       4  130142.79              1          1   \n",
            "\n",
            "      IsActiveMember  EstimatedSalary  Exited  \n",
            "0                  1        101348.88       1  \n",
            "1                  1        112542.58       0  \n",
            "2                  0        113931.57       1  \n",
            "3                  0         93826.63       0  \n",
            "4                  1         79084.10       0  \n",
            "...              ...              ...     ...  \n",
            "9995               0         96270.64       0  \n",
            "9996               1        101699.77       0  \n",
            "9997               1         42085.58       1  \n",
            "9998               0         92888.52       1  \n",
            "9999               0         38190.78       0  \n",
            "\n",
            "[10000 rows x 15 columns]]       RowNumber  CustomerId    Surname  CreditScore Geography  Gender  Age  \\\n",
            "0             1    15634602   Hargrave          619    France  Female   42   \n",
            "1             2    15647311       Hill          608     Spain  Female   41   \n",
            "2             3    15619304       Onio          502    France  Female   42   \n",
            "3             4    15701354       Boni          699    France  Female   39   \n",
            "4             5    15737888   Mitchell          850     Spain  Female   43   \n",
            "...         ...         ...        ...          ...       ...     ...  ...   \n",
            "9995       9996    15606229   Obijiaku          771    France    Male   39   \n",
            "9996       9997    15569892  Johnstone          516    France    Male   35   \n",
            "9997       9998    15584532        Liu          709    France  Female   36   \n",
            "9998       9999    15682355  Sabbatini          772   Germany    Male   42   \n",
            "9999      10000    15628319     Walker          792    France  Female   28   \n",
            "\n",
            "      Tenure    Balance  NumOfProducts  HasCrCard  IsActiveMember  \\\n",
            "0          2       0.00              1          1               1   \n",
            "1          1   83807.86              1          0               1   \n",
            "2          8  159660.80              3          1               0   \n",
            "3          1       0.00              2          0               0   \n",
            "4          2  125510.82              1          1               1   \n",
            "...      ...        ...            ...        ...             ...   \n",
            "9995       5       0.00              2          1               0   \n",
            "9996      10   57369.61              1          1               1   \n",
            "9997       7       0.00              1          0               1   \n",
            "9998       3   75075.31              2          1               0   \n",
            "9999       4  130142.79              1          1               0   \n",
            "\n",
            "      EstimatedSalary  Exited  \n",
            "0           101348.88       1  \n",
            "1           112542.58       0  \n",
            "2           113931.57       1  \n",
            "3            93826.63       0  \n",
            "4            79084.10       0  \n",
            "...               ...     ...  \n",
            "9995         96270.64       0  \n",
            "9996        101699.77       0  \n",
            "9997         42085.58       1  \n",
            "9998         92888.52       1  \n",
            "9999         38190.78       0  \n",
            "\n",
            "[10000 rows x 14 columns]\n"
          ]
        }
      ]
    },
    {
      "cell_type": "code",
      "source": [
        "df1.to_html('churn_modelling_html.html')"
      ],
      "metadata": {
        "id": "oxoFthszPULx"
      },
      "execution_count": null,
      "outputs": []
    },
    {
      "cell_type": "code",
      "source": [
        "df1.to_excel('churn_modelling_xlsx.xlsx')"
      ],
      "metadata": {
        "id": "1vLmLSx-WBW0"
      },
      "execution_count": null,
      "outputs": []
    },
    {
      "cell_type": "code",
      "source": [
        "!pip install xlwt\n",
        "import xlwt\n",
        "df1.to_excel('churn_modelling_xls.xls')"
      ],
      "metadata": {
        "colab": {
          "base_uri": "https://localhost:8080/"
        },
        "id": "HWueJI63WL8z",
        "outputId": "a9b81d7a-29ee-4155-c75c-437299e86dae"
      },
      "execution_count": null,
      "outputs": [
        {
          "output_type": "stream",
          "name": "stdout",
          "text": [
            "Looking in indexes: https://pypi.org/simple, https://us-python.pkg.dev/colab-wheels/public/simple/\n",
            "Requirement already satisfied: xlwt in /usr/local/lib/python3.10/dist-packages (1.3.0)\n"
          ]
        },
        {
          "output_type": "stream",
          "name": "stderr",
          "text": [
            "<ipython-input-32-957ccbfcdb8a>:3: FutureWarning: As the xlwt package is no longer maintained, the xlwt engine will be removed in a future version of pandas. This is the only engine in pandas that supports writing in the xls format. Install openpyxl and write to an xlsx file instead. You can set the option io.excel.xls.writer to 'xlwt' to silence this warning. While this option is deprecated and will also raise a warning, it can be globally set and the warning suppressed.\n",
            "  df1.to_excel('churn_modelling_xls.xls')\n"
          ]
        }
      ]
    },
    {
      "cell_type": "code",
      "source": [
        "df1.to_json('churn_modelling_json.json')"
      ],
      "metadata": {
        "id": "wvvT9ss0XP1-"
      },
      "execution_count": null,
      "outputs": []
    },
    {
      "cell_type": "code",
      "source": [
        "df1.to_xml('churn_modelling_xml.xml')"
      ],
      "metadata": {
        "id": "xgK3Z0G0ZBX1"
      },
      "execution_count": null,
      "outputs": []
    }
  ]
}