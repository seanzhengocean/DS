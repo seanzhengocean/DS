{
  "nbformat": 4,
  "nbformat_minor": 0,
  "metadata": {
    "colab": {
      "provenance": [],
      "include_colab_link": true
    },
    "kernelspec": {
      "name": "python3",
      "display_name": "Python 3"
    },
    "language_info": {
      "name": "python"
    }
  },
  "cells": [
    {
      "cell_type": "markdown",
      "metadata": {
        "id": "view-in-github",
        "colab_type": "text"
      },
      "source": [
        "<a href=\"https://colab.research.google.com/github/Seanzhengocean1/DS_Week3/blob/main/Day14_SM_May18.ipynb\" target=\"_parent\"><img src=\"https://colab.research.google.com/assets/colab-badge.svg\" alt=\"Open In Colab\"/></a>"
      ]
    },
    {
      "cell_type": "code",
      "execution_count": null,
      "metadata": {
        "id": "EtIS_hYVV_wi"
      },
      "outputs": [],
      "source": [
        "class iphone15pro:\n",
        "  a =\"$%^iphone15pro^%^\""
      ]
    },
    {
      "cell_type": "code",
      "source": [
        "a1=iphone15pro() #object 'a1' is the instance of class iphone15pro\n",
        "print(type(a1))\n",
        "a1.a"
      ],
      "metadata": {
        "colab": {
          "base_uri": "https://localhost:8080/",
          "height": 53
        },
        "id": "moNo5vcUWP0t",
        "outputId": "82469a29-d69f-4be1-a4a1-610197cea695"
      },
      "execution_count": null,
      "outputs": [
        {
          "output_type": "stream",
          "name": "stdout",
          "text": [
            "<class '__main__.iphone15pro'>\n"
          ]
        },
        {
          "output_type": "execute_result",
          "data": {
            "text/plain": [
              "'$%^iphone15pro^%^'"
            ],
            "application/vnd.google.colaboratory.intrinsic+json": {
              "type": "string"
            }
          },
          "metadata": {},
          "execution_count": 5
        }
      ]
    },
    {
      "cell_type": "code",
      "source": [
        "class dellXzen:\n",
        "  del1='!@#dellXzen$%^'\n",
        "  del2='^&&dellXzen!@#'\n",
        "  del3 ='*&^dellXzen#$%'\n",
        "  print(type(del1))"
      ],
      "metadata": {
        "id": "w4AOPPV9WzlX",
        "colab": {
          "base_uri": "https://localhost:8080/"
        },
        "outputId": "e1ab7624-62ab-4c49-d5f5-e99702aa6ac1"
      },
      "execution_count": null,
      "outputs": [
        {
          "output_type": "stream",
          "name": "stdout",
          "text": [
            "<class 'str'>\n"
          ]
        }
      ]
    },
    {
      "cell_type": "code",
      "source": [
        "del11=dellXzen()\n",
        "print(type(del11))\n",
        "print(del11.del1)\n",
        "\n",
        "del21=dellXzen()\n",
        "print(type(del21))\n",
        "print(del21.del2)\n",
        "\n",
        "del31=dellXzen()\n",
        "print(type(del31))\n",
        "print(del31.del3)"
      ],
      "metadata": {
        "colab": {
          "base_uri": "https://localhost:8080/"
        },
        "id": "6Evr7HMLXZGr",
        "outputId": "e8f321d4-854d-4e54-f67a-e3d63cfc5255"
      },
      "execution_count": null,
      "outputs": [
        {
          "output_type": "stream",
          "name": "stdout",
          "text": [
            "<class '__main__.dellXzen'>\n",
            "!@#dellXzen$%^\n",
            "<class '__main__.dellXzen'>\n",
            "^&&dellXzen!@#\n",
            "<class '__main__.dellXzen'>\n",
            "*&^dellXzen#$%\n"
          ]
        }
      ]
    },
    {
      "cell_type": "code",
      "source": [
        "#insializing the class \n",
        "#self is object of class itself. always pass an arguments\n",
        "\n",
        "class iphone15pro:\n",
        "  def __init__(self):\n",
        "    pass"
      ],
      "metadata": {
        "id": "yZ70pX2zdi7Y"
      },
      "execution_count": null,
      "outputs": []
    },
    {
      "cell_type": "code",
      "source": [
        "a=iphone15pro()\n",
        "print(type(a))"
      ],
      "metadata": {
        "colab": {
          "base_uri": "https://localhost:8080/"
        },
        "id": "DWJE8v5Eebx9",
        "outputId": "2a1bb47b-9166-4d2e-818b-4d21eeff01fe"
      },
      "execution_count": null,
      "outputs": [
        {
          "output_type": "stream",
          "name": "stdout",
          "text": [
            "<class '__main__.iphone15pro'>\n"
          ]
        }
      ]
    },
    {
      "cell_type": "code",
      "source": [
        "class iphone15pro:\n",
        "  def __init__(self,model,price):\n",
        "    self.model=model\n",
        "    self.price=price"
      ],
      "metadata": {
        "id": "t0QlpYo4etuD"
      },
      "execution_count": null,
      "outputs": []
    },
    {
      "cell_type": "code",
      "source": [
        "a=iphone15pro('i15pro',11000)\n",
        "print(type(a))"
      ],
      "metadata": {
        "colab": {
          "base_uri": "https://localhost:8080/"
        },
        "id": "wWEqFjkKfB_q",
        "outputId": "795742d5-80c4-42f0-d192-9d9c68031ef4"
      },
      "execution_count": null,
      "outputs": [
        {
          "output_type": "stream",
          "name": "stdout",
          "text": [
            "<class '__main__.iphone15pro'>\n"
          ]
        }
      ]
    },
    {
      "cell_type": "code",
      "source": [
        "class iphone15pro:\n",
        "  def __init__(self,model,price):\n",
        "    self.model=model\n",
        "    self.price=price\n",
        "  def print_info(self):\n",
        "    print('model:',self.model,'price:',self.price)"
      ],
      "metadata": {
        "id": "5CrEIbtNfyV7"
      },
      "execution_count": null,
      "outputs": []
    },
    {
      "cell_type": "code",
      "source": [
        "a1=iphone15pro('i15pro',11000)\n",
        "a1.print_info()"
      ],
      "metadata": {
        "colab": {
          "base_uri": "https://localhost:8080/"
        },
        "id": "irRwv12yh-Zp",
        "outputId": "1527f55a-821a-4bc2-c5ef-4b900eabfe0a"
      },
      "execution_count": null,
      "outputs": [
        {
          "output_type": "stream",
          "name": "stdout",
          "text": [
            "model: i15pro price: 11000\n"
          ]
        }
      ]
    },
    {
      "cell_type": "code",
      "source": [
        "class iPhone15Pro:\n",
        "  def __init__(self, processor, ram, int_mem, display, camera):\n",
        "    self.processor = processor\n",
        "    self.ram = ram\n",
        "    self.int_mem = int_mem\n",
        "    self.display = display\n",
        "    self.camera = camera\n",
        "\n",
        "  def print_details(self):\n",
        "    print(\"Processor: \", self.processor,\n",
        "          \"RAM: \", self.ram,\n",
        "          \"Internal Memory: \", self.int_mem,\n",
        "          \"Display: \", self.display,\n",
        "          \"Camera: \", self.camera)"
      ],
      "metadata": {
        "id": "T0fcoKHFmGJq"
      },
      "execution_count": null,
      "outputs": []
    },
    {
      "cell_type": "code",
      "source": [
        "a1=iPhone15Pro('Intel core i7','DDR5.DDR','256GB','14 inch','16mbps')\n",
        "a1.print_details()"
      ],
      "metadata": {
        "colab": {
          "base_uri": "https://localhost:8080/"
        },
        "id": "JgZlBU9ymHOq",
        "outputId": "722c9203-78f6-481e-adac-56897c7b076a"
      },
      "execution_count": null,
      "outputs": [
        {
          "output_type": "stream",
          "name": "stdout",
          "text": [
            "Processor:  Intel core i7 RAM:  DDR5.DDR Internal Memory:  256GB Display:  14 inch Camera:  16mbps\n"
          ]
        }
      ]
    },
    {
      "cell_type": "code",
      "source": [
        "class iPhone15Pro:\n",
        "  def __init__(self, processor, ram, int_mem, display, camera):\n",
        "    self.processor = processor\n",
        "    self.ram = ram\n",
        "    self.int_mem = int_mem\n",
        "    self.display = display\n",
        "    self.camera = camera\n",
        "\n",
        "  def print_details(self):\n",
        "    print(\"Processor: \", self.processor,\n",
        "          \"RAM: \", self.ram,\n",
        "          \"Internal Memory: \", self.int_mem,\n",
        "          \"Display: \", self.display,\n",
        "          \"Camera: \", self.camera)"
      ],
      "metadata": {
        "id": "nibxrVU7nMyR"
      },
      "execution_count": null,
      "outputs": []
    },
    {
      "cell_type": "code",
      "source": [
        "a1=iPhone15Pro('Intel core i7','DDR5.DDR','256GB','14 inch','16mbps')\n",
        "a1.print_details()"
      ],
      "metadata": {
        "colab": {
          "base_uri": "https://localhost:8080/"
        },
        "id": "yD0PNJeSn4bt",
        "outputId": "88d81e66-d955-4483-cbfd-01a5b0b13798"
      },
      "execution_count": null,
      "outputs": [
        {
          "output_type": "stream",
          "name": "stdout",
          "text": [
            "Processor:  Intel core i7 RAM:  DDR5.DDR Internal Memory:  256GB Display:  14 inch Camera:  16mbps\n"
          ]
        }
      ]
    },
    {
      "cell_type": "code",
      "source": [
        "class MKbags:"
      ],
      "metadata": {
        "id": "pdO1z1EFpJAA"
      },
      "execution_count": null,
      "outputs": []
    },
    {
      "cell_type": "markdown",
      "source": [
        "# ***Inheritance***"
      ],
      "metadata": {
        "id": "E8L6xsqupD7x"
      }
    },
    {
      "cell_type": "code",
      "source": [
        "class computer:\n",
        "  def __init__ (self):\n",
        "    pass\n"
      ],
      "metadata": {
        "id": "_hXYTxQbpG1m"
      },
      "execution_count": null,
      "outputs": []
    },
    {
      "cell_type": "code",
      "source": [
        "class desktop(computer): # Parent Class\n",
        "  pass\n",
        "class laptop(computer):\n",
        "  pass\n",
        "class tablet(computer):\n",
        "  pass\n",
        "class notebook(computer):\n",
        "  pass"
      ],
      "metadata": {
        "id": "9gA6HwSioRrr"
      },
      "execution_count": null,
      "outputs": []
    },
    {
      "cell_type": "code",
      "source": [
        "class i3_desktop(desktop): # Child Class\n",
        "  pass\n",
        "class i5_desktop(desktop):\n",
        "  pass\n",
        "class i7_desktop(desktop):\n",
        "  pass  \n",
        "class i9_desktop(desktop):\n",
        "  pass"
      ],
      "metadata": {
        "id": "J7ant10QqU1d"
      },
      "execution_count": null,
      "outputs": []
    },
    {
      "cell_type": "code",
      "source": [
        "class computer: # Great Grand Parent Class\n",
        "  def __init__(self, name, city):\n",
        "    self.name = name\n",
        "    self.city = city\n",
        "  def print_details(self):\n",
        "    print('My name is ', self.name, \"I live in city \", self.city)\n",
        "\n",
        "class desktop(computer): # Grand Parent Class\n",
        "  pass"
      ],
      "metadata": {
        "id": "Dg4givJJuf8o"
      },
      "execution_count": null,
      "outputs": []
    },
    {
      "cell_type": "code",
      "source": [
        "comp1 = computer('Lenove', 'NY')\n",
        "comp1.print_details()\n",
        "print(type(comp1))"
      ],
      "metadata": {
        "colab": {
          "base_uri": "https://localhost:8080/"
        },
        "id": "x9IYF5iNuoGC",
        "outputId": "43ba5bf1-c425-4958-f562-838bf81d96bb"
      },
      "execution_count": null,
      "outputs": [
        {
          "output_type": "stream",
          "name": "stdout",
          "text": [
            "My name is  Lenove I live in city  NY\n",
            "<class '__main__.computer'>\n"
          ]
        }
      ]
    },
    {
      "cell_type": "code",
      "source": [
        "comp1 = desktop('dell', 'OR')\n",
        "comp1.print_details()\n",
        "print(type(comp1))"
      ],
      "metadata": {
        "colab": {
          "base_uri": "https://localhost:8080/"
        },
        "id": "JlcGgx1juppm",
        "outputId": "3d4de124-86c1-4e90-d03d-dfbf62658a6f"
      },
      "execution_count": null,
      "outputs": [
        {
          "output_type": "stream",
          "name": "stdout",
          "text": [
            "My name is  dell I live in city  OR\n",
            "<class '__main__.desktop'>\n"
          ]
        }
      ]
    },
    {
      "cell_type": "code",
      "source": [
        "class MOBILE:\n",
        "  def __init__ (self):\n",
        "    pass"
      ],
      "metadata": {
        "id": "1zSxs1Z4y69Y"
      },
      "execution_count": null,
      "outputs": []
    },
    {
      "cell_type": "code",
      "source": [
        "class anroid(MOBILE): \n",
        "  pass\n",
        "class iphone(MOBILE):\n",
        "  pass"
      ],
      "metadata": {
        "id": "9caua7QczDPL"
      },
      "execution_count": null,
      "outputs": []
    },
    {
      "cell_type": "code",
      "source": [
        "class samsung(anroid): \n",
        "  pass\n",
        "class oneplus(anroid):\n",
        "  pass "
      ],
      "metadata": {
        "id": "aFvFaU_MzfTS"
      },
      "execution_count": null,
      "outputs": []
    },
    {
      "cell_type": "code",
      "source": [
        "class iphone14promax(iphone): \n",
        "  pass\n",
        "class iphone13pro(iphone):\n",
        "  pass "
      ],
      "metadata": {
        "id": "xiQ45qUbzyBF"
      },
      "execution_count": null,
      "outputs": []
    },
    {
      "cell_type": "code",
      "source": [
        "class MOBILE: # Great Grand Parent Class\n",
        "  def __init__(self, name, size):\n",
        "    self.name = name\n",
        "    self.size = size\n",
        "  def print_details(self):\n",
        "    print('Name of mobile is ', self.name, \"Size of mobile is\", self.size)\n",
        "class anroid(MOBILE): \n",
        "  pass\n",
        "class iphone(MOBILE):\n",
        "  pass"
      ],
      "metadata": {
        "id": "FJYPVfL2vLL3"
      },
      "execution_count": null,
      "outputs": []
    },
    {
      "cell_type": "code",
      "source": [
        "mob1 = MOBILE('s7', '6 inch')\n",
        "mob1.print_details()\n",
        "print(type(mob1))"
      ],
      "metadata": {
        "colab": {
          "base_uri": "https://localhost:8080/"
        },
        "id": "9htSn2Gz0x-3",
        "outputId": "22190156-a189-4b56-f57d-4caa9ee5988d"
      },
      "execution_count": null,
      "outputs": [
        {
          "output_type": "stream",
          "name": "stdout",
          "text": [
            "Name of mobile is  s7 Size of mobile is 6 inch\n",
            "<class '__main__.MOBILE'>\n"
          ]
        }
      ]
    },
    {
      "cell_type": "code",
      "source": [
        "mob1 = anroid('s8', '7 inch')\n",
        "mob1.print_details()\n",
        "print(type(mob1))"
      ],
      "metadata": {
        "colab": {
          "base_uri": "https://localhost:8080/"
        },
        "id": "xsBrgB-91Ux5",
        "outputId": "a2bc2785-1161-4c7a-ed01-9c713f6805b4"
      },
      "execution_count": null,
      "outputs": [
        {
          "output_type": "stream",
          "name": "stdout",
          "text": [
            "Name of mobile is  s8 Size of mobile is 7 inch\n",
            "<class '__main__.anroid'>\n"
          ]
        }
      ]
    },
    {
      "cell_type": "code",
      "source": [
        "mob1 = iphone('iphone13promax', '7 inch')\n",
        "mob1.print_details()\n",
        "print(type(mob1))"
      ],
      "metadata": {
        "colab": {
          "base_uri": "https://localhost:8080/"
        },
        "id": "chBB-Mff1gQQ",
        "outputId": "ef753c31-0381-4d5b-bfbb-1d8b99707df9"
      },
      "execution_count": null,
      "outputs": [
        {
          "output_type": "stream",
          "name": "stdout",
          "text": [
            "Name of mobile is  iphone13promax Size of mobile is 7 inch\n",
            "<class '__main__.iphone'>\n"
          ]
        }
      ]
    },
    {
      "cell_type": "code",
      "source": [
        "class person: #parent class\n",
        "  def __init__(self, name, lname):\n",
        "    self.firstname = name\n",
        "    self.lastname = lname\n",
        "\n",
        "  def printname(self):\n",
        "    print(\"First Name in class person: \", self.firstname, \"Last Name\", self.lastname)"
      ],
      "metadata": {
        "id": "SLhdDwpb18sT"
      },
      "execution_count": null,
      "outputs": []
    },
    {
      "cell_type": "code",
      "source": [
        "class student(person): #child class\n",
        "  def __init__(self, name, lname):\n",
        "    self.firstname = name\n",
        "    self.lastname = lname\n",
        "\n",
        "  def printname(self):\n",
        "    print(\"First Name in class student(person): \", self.firstname, \"Last Name\", self.lastname)"
      ],
      "metadata": {
        "id": "9m0_7kts9kpV"
      },
      "execution_count": null,
      "outputs": []
    },
    {
      "cell_type": "code",
      "source": [
        "stud1 = person('Krishna', 'S')\n",
        "stud1.printname()"
      ],
      "metadata": {
        "colab": {
          "base_uri": "https://localhost:8080/"
        },
        "id": "SlGhDtBO9rC5",
        "outputId": "5e85cac3-0498-4a0f-de09-c5c8b895aa22"
      },
      "execution_count": null,
      "outputs": [
        {
          "output_type": "stream",
          "name": "stdout",
          "text": [
            "First Name in class person:  Krishna Last Name S\n"
          ]
        }
      ]
    },
    {
      "cell_type": "code",
      "source": [
        "stud2 = student('Mahadev', 'R')\n",
        "stud2.printname()"
      ],
      "metadata": {
        "colab": {
          "base_uri": "https://localhost:8080/"
        },
        "id": "_b4DouaT9txy",
        "outputId": "1cf0385a-abff-47a1-e302-44c0a2f55dbb"
      },
      "execution_count": null,
      "outputs": [
        {
          "output_type": "stream",
          "name": "stdout",
          "text": [
            "First Name in class student(person):  Mahadev Last Name R\n"
          ]
        }
      ]
    },
    {
      "cell_type": "code",
      "source": [],
      "metadata": {
        "id": "LpxBgpGT_l2E"
      },
      "execution_count": null,
      "outputs": []
    },
    {
      "cell_type": "code",
      "source": [
        "class computer: \n",
        "  def __init__(self, name, memory):\n",
        "    self.name = name\n",
        "    self.memory = memory\n",
        "  def print_details(self):\n",
        "    print('My name is ', self.name, \"The memory is \", self.memory)\n",
        "\n",
        "class laptop(computer):\n",
        "  def __init__(self, name, memory, color):\n",
        "    self.name=name\n",
        "    self.memory=memory\n",
        "    self.color=color\n",
        "  def print_details(self):\n",
        "    print('My name is ',self.name,'The momory is',self.memory,'The color is',self.color)\n",
        "\n",
        "class desktop(computer): \n",
        "  def __init__(self, name, memory,size):\n",
        "    self.name = name\n",
        "    self.memory = memory\n",
        "    self.size=size\n",
        "    print('My name is ', self.name, \"The memory is \", self.memory,\"The size is\",self.size)"
      ],
      "metadata": {
        "id": "I-J4vs7i_QmA"
      },
      "execution_count": null,
      "outputs": []
    },
    {
      "cell_type": "code",
      "source": [
        "comp1=computer('lenovo','256GB')\n",
        "comp1.print_details()\n",
        "print(type(comp1))"
      ],
      "metadata": {
        "colab": {
          "base_uri": "https://localhost:8080/"
        },
        "id": "oxbP3gvrBa7J",
        "outputId": "59ebf317-5600-4069-dd0f-28a4b684e9dd"
      },
      "execution_count": null,
      "outputs": [
        {
          "output_type": "stream",
          "name": "stdout",
          "text": [
            "My name is  lenovo The memory is  256GB\n",
            "<class '__main__.computer'>\n"
          ]
        }
      ]
    },
    {
      "cell_type": "code",
      "source": [
        "dskt1=desktop('dell','128GB','14 inch')\n",
        "dskt1.print_details()\n",
        "print(type(dskt1))"
      ],
      "metadata": {
        "colab": {
          "base_uri": "https://localhost:8080/"
        },
        "id": "KHgvKt7YB6f_",
        "outputId": "06e68d34-ff04-4c1f-ebf1-d9780f5eea7d"
      },
      "execution_count": null,
      "outputs": [
        {
          "output_type": "stream",
          "name": "stdout",
          "text": [
            "My name is  dell The memory is  128GB The size is 14 inch\n",
            "<class '__main__.desktop'>\n"
          ]
        }
      ]
    },
    {
      "cell_type": "code",
      "source": [
        "lpt1=laptop('HP','512GB','black')\n",
        "lpt1.print_details()\n",
        "print(type(lpt1))"
      ],
      "metadata": {
        "colab": {
          "base_uri": "https://localhost:8080/"
        },
        "id": "R9UTEXVwCgi3",
        "outputId": "0da46508-b956-48ea-fba7-f7bfd0971bd9"
      },
      "execution_count": null,
      "outputs": [
        {
          "output_type": "stream",
          "name": "stdout",
          "text": [
            "black test here\n",
            "My name is  HP The momory is 512GB The color is black\n",
            "<class '__main__.laptop'>\n"
          ]
        }
      ]
    },
    {
      "cell_type": "code",
      "source": [
        "class Phone:\n",
        "  def __init__(self,name,color):\n",
        "    self.name=name\n",
        "    self.color=color\n",
        "  def print_details(self):\n",
        "    print('The name of phone is',self.name,'the color of phone is',self.color)\n"
      ],
      "metadata": {
        "id": "doFxNccMA5AY"
      },
      "execution_count": null,
      "outputs": []
    },
    {
      "cell_type": "code",
      "source": [
        "class anroid(Phone):\n",
        "  def __init__(self, name, color):\n",
        "    self.name=name\n",
        "    self.color=color\n",
        "  def print_details(self):\n",
        "    print('The name of phone is',self.name,'the color of phone is',self.color)"
      ],
      "metadata": {
        "id": "G7zF-UPfCEvo"
      },
      "execution_count": null,
      "outputs": []
    },
    {
      "cell_type": "code",
      "source": [
        "class iphone(Phone):\n",
        "  def __init__(self, name, color):\n",
        "    self.name=name\n",
        "    self.color=color\n",
        "  def print_details(self):\n",
        "    print('The name of phone is',self.name,'the color of phone is',self.color)"
      ],
      "metadata": {
        "id": "qF4OXeefCbHy"
      },
      "execution_count": null,
      "outputs": []
    },
    {
      "cell_type": "code",
      "source": [
        "ph1=Phone('windows','red')\n",
        "ph1.print_details()\n",
        "print(type(ph1))"
      ],
      "metadata": {
        "colab": {
          "base_uri": "https://localhost:8080/"
        },
        "id": "em2Xsi8WCilJ",
        "outputId": "52d234be-239b-490c-8c18-6e499c292405"
      },
      "execution_count": null,
      "outputs": [
        {
          "output_type": "stream",
          "name": "stdout",
          "text": [
            "The name of phone is windows the color of phone is red\n",
            "<class '__main__.Phone'>\n"
          ]
        }
      ]
    },
    {
      "cell_type": "code",
      "source": [
        "an1=anroid('samsung','pink')\n",
        "an1.print_details()\n",
        "print(type(an1))"
      ],
      "metadata": {
        "colab": {
          "base_uri": "https://localhost:8080/"
        },
        "id": "Vnzkw_M5C-Rl",
        "outputId": "d3a9e233-2bfa-41f2-a54e-222f163fb533"
      },
      "execution_count": null,
      "outputs": [
        {
          "output_type": "stream",
          "name": "stdout",
          "text": [
            "The name of phone is samsung the color of phone is pink\n",
            "<class '__main__.anroid'>\n"
          ]
        }
      ]
    },
    {
      "cell_type": "code",
      "source": [
        "ip1=iphone('iphone14pro','green')\n",
        "ip1.print_details()\n",
        "print(type(ip1))"
      ],
      "metadata": {
        "colab": {
          "base_uri": "https://localhost:8080/"
        },
        "id": "tFLdh62KDK0f",
        "outputId": "5e6b403e-199d-4604-ed00-472fbcb71c82"
      },
      "execution_count": null,
      "outputs": [
        {
          "output_type": "stream",
          "name": "stdout",
          "text": [
            "The name of phone is iphone14pro the color of phone is green\n",
            "<class '__main__.iphone'>\n"
          ]
        }
      ]
    }
  ]
}