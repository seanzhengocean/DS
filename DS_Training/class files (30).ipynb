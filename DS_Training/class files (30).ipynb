{
  "nbformat": 4,
  "nbformat_minor": 0,
  "metadata": {
    "colab": {
      "provenance": [],
      "include_colab_link": true
    },
    "kernelspec": {
      "name": "python3",
      "display_name": "Python 3"
    },
    "language_info": {
      "name": "python"
    }
  },
  "cells": [
    {
      "cell_type": "markdown",
      "metadata": {
        "id": "view-in-github",
        "colab_type": "text"
      },
      "source": [
        "<a href=\"https://colab.research.google.com/github/Seanzhengocean1/DS_Week4/blob/main/Day19_A_25_26MAY2023_DS_Pandas.ipynb\" target=\"_parent\"><img src=\"https://colab.research.google.com/assets/colab-badge.svg\" alt=\"Open In Colab\"/></a>"
      ]
    },
    {
      "cell_type": "code",
      "execution_count": null,
      "metadata": {
        "id": "7UykUHPL8YAJ"
      },
      "outputs": [],
      "source": [
        "import pandas as pd"
      ]
    },
    {
      "cell_type": "code",
      "source": [
        "df_csv = pd.read_csv('/content/Churn_Modelling.csv')"
      ],
      "metadata": {
        "id": "-Aho2eC5NgBS"
      },
      "execution_count": null,
      "outputs": []
    },
    {
      "cell_type": "code",
      "source": [
        "df_xml = pd.read_xml('/content/churn_modelling_xml.xml')"
      ],
      "metadata": {
        "id": "ls9mOykjadau"
      },
      "execution_count": null,
      "outputs": []
    },
    {
      "cell_type": "code",
      "source": [
        "df_xlsx = pd.read_excel('/content/churn_modelling_xlsx.xlsx')"
      ],
      "metadata": {
        "id": "wzwOxFzEaoh1"
      },
      "execution_count": null,
      "outputs": []
    },
    {
      "cell_type": "code",
      "source": [
        "df_html = pd.read_html('/content/churn_modelling_html.html')"
      ],
      "metadata": {
        "id": "16CQQggma2YU"
      },
      "execution_count": null,
      "outputs": []
    },
    {
      "cell_type": "code",
      "source": [
        "df_json = pd.read_json('/content/churn_modelling_json.json')"
      ],
      "metadata": {
        "id": "P0hsomqRa9ph"
      },
      "execution_count": null,
      "outputs": []
    },
    {
      "cell_type": "code",
      "source": [
        "print(df_csv, df_xml, df_xlsx, df_html, df_json)"
      ],
      "metadata": {
        "colab": {
          "base_uri": "https://localhost:8080/"
        },
        "id": "xrFwTJPaNvQW",
        "outputId": "a4b14249-3da5-48ca-bda5-866274ac3e16"
      },
      "execution_count": null,
      "outputs": [
        {
          "output_type": "stream",
          "name": "stdout",
          "text": [
            "      RowNumber  CustomerId    Surname  CreditScore Geography  Gender  Age  \\\n",
            "0             1    15634602   Hargrave          619    France  Female   42   \n",
            "1             2    15647311       Hill          608     Spain  Female   41   \n",
            "2             3    15619304       Onio          502    France  Female   42   \n",
            "3             4    15701354       Boni          699    France  Female   39   \n",
            "4             5    15737888   Mitchell          850     Spain  Female   43   \n",
            "...         ...         ...        ...          ...       ...     ...  ...   \n",
            "9995       9996    15606229   Obijiaku          771    France    Male   39   \n",
            "9996       9997    15569892  Johnstone          516    France    Male   35   \n",
            "9997       9998    15584532        Liu          709    France  Female   36   \n",
            "9998       9999    15682355  Sabbatini          772   Germany    Male   42   \n",
            "9999      10000    15628319     Walker          792    France  Female   28   \n",
            "\n",
            "      Tenure    Balance  NumOfProducts  HasCrCard  IsActiveMember  \\\n",
            "0          2       0.00              1          1               1   \n",
            "1          1   83807.86              1          0               1   \n",
            "2          8  159660.80              3          1               0   \n",
            "3          1       0.00              2          0               0   \n",
            "4          2  125510.82              1          1               1   \n",
            "...      ...        ...            ...        ...             ...   \n",
            "9995       5       0.00              2          1               0   \n",
            "9996      10   57369.61              1          1               1   \n",
            "9997       7       0.00              1          0               1   \n",
            "9998       3   75075.31              2          1               0   \n",
            "9999       4  130142.79              1          1               0   \n",
            "\n",
            "      EstimatedSalary  Exited  \n",
            "0           101348.88       1  \n",
            "1           112542.58       0  \n",
            "2           113931.57       1  \n",
            "3            93826.63       0  \n",
            "4            79084.10       0  \n",
            "...               ...     ...  \n",
            "9995         96270.64       0  \n",
            "9996        101699.77       0  \n",
            "9997         42085.58       1  \n",
            "9998         92888.52       1  \n",
            "9999         38190.78       0  \n",
            "\n",
            "[10000 rows x 14 columns]       index  RowNumber  CustomerId    Surname  CreditScore Geography  Gender  \\\n",
            "0         0          1    15634602   Hargrave          619    France  Female   \n",
            "1         1          2    15647311       Hill          608     Spain  Female   \n",
            "2         2          3    15619304       Onio          502    France  Female   \n",
            "3         3          4    15701354       Boni          699    France  Female   \n",
            "4         4          5    15737888   Mitchell          850     Spain  Female   \n",
            "...     ...        ...         ...        ...          ...       ...     ...   \n",
            "9995   9995       9996    15606229   Obijiaku          771    France    Male   \n",
            "9996   9996       9997    15569892  Johnstone          516    France    Male   \n",
            "9997   9997       9998    15584532        Liu          709    France  Female   \n",
            "9998   9998       9999    15682355  Sabbatini          772   Germany    Male   \n",
            "9999   9999      10000    15628319     Walker          792    France  Female   \n",
            "\n",
            "      Age  Tenure    Balance  NumOfProducts  HasCrCard  IsActiveMember  \\\n",
            "0      42       2       0.00              1          1               1   \n",
            "1      41       1   83807.86              1          0               1   \n",
            "2      42       8  159660.80              3          1               0   \n",
            "3      39       1       0.00              2          0               0   \n",
            "4      43       2  125510.82              1          1               1   \n",
            "...   ...     ...        ...            ...        ...             ...   \n",
            "9995   39       5       0.00              2          1               0   \n",
            "9996   35      10   57369.61              1          1               1   \n",
            "9997   36       7       0.00              1          0               1   \n",
            "9998   42       3   75075.31              2          1               0   \n",
            "9999   28       4  130142.79              1          1               0   \n",
            "\n",
            "      EstimatedSalary  Exited  \n",
            "0           101348.88       1  \n",
            "1           112542.58       0  \n",
            "2           113931.57       1  \n",
            "3            93826.63       0  \n",
            "4            79084.10       0  \n",
            "...               ...     ...  \n",
            "9995         96270.64       0  \n",
            "9996        101699.77       0  \n",
            "9997         42085.58       1  \n",
            "9998         92888.52       1  \n",
            "9999         38190.78       0  \n",
            "\n",
            "[10000 rows x 15 columns]       Unnamed: 0  RowNumber  CustomerId    Surname  CreditScore Geography  \\\n",
            "0              0          1    15634602   Hargrave          619    France   \n",
            "1              1          2    15647311       Hill          608     Spain   \n",
            "2              2          3    15619304       Onio          502    France   \n",
            "3              3          4    15701354       Boni          699    France   \n",
            "4              4          5    15737888   Mitchell          850     Spain   \n",
            "...          ...        ...         ...        ...          ...       ...   \n",
            "9995        9995       9996    15606229   Obijiaku          771    France   \n",
            "9996        9996       9997    15569892  Johnstone          516    France   \n",
            "9997        9997       9998    15584532        Liu          709    France   \n",
            "9998        9998       9999    15682355  Sabbatini          772   Germany   \n",
            "9999        9999      10000    15628319     Walker          792    France   \n",
            "\n",
            "      Gender  Age  Tenure    Balance  NumOfProducts  HasCrCard  \\\n",
            "0     Female   42       2       0.00              1          1   \n",
            "1     Female   41       1   83807.86              1          0   \n",
            "2     Female   42       8  159660.80              3          1   \n",
            "3     Female   39       1       0.00              2          0   \n",
            "4     Female   43       2  125510.82              1          1   \n",
            "...      ...  ...     ...        ...            ...        ...   \n",
            "9995    Male   39       5       0.00              2          1   \n",
            "9996    Male   35      10   57369.61              1          1   \n",
            "9997  Female   36       7       0.00              1          0   \n",
            "9998    Male   42       3   75075.31              2          1   \n",
            "9999  Female   28       4  130142.79              1          1   \n",
            "\n",
            "      IsActiveMember  EstimatedSalary  Exited  \n",
            "0                  1        101348.88       1  \n",
            "1                  1        112542.58       0  \n",
            "2                  0        113931.57       1  \n",
            "3                  0         93826.63       0  \n",
            "4                  1         79084.10       0  \n",
            "...              ...              ...     ...  \n",
            "9995               0         96270.64       0  \n",
            "9996               1        101699.77       0  \n",
            "9997               1         42085.58       1  \n",
            "9998               0         92888.52       1  \n",
            "9999               0         38190.78       0  \n",
            "\n",
            "[10000 rows x 15 columns] [      Unnamed: 0  RowNumber  CustomerId    Surname  CreditScore Geography  \\\n",
            "0              0          1    15634602   Hargrave          619    France   \n",
            "1              1          2    15647311       Hill          608     Spain   \n",
            "2              2          3    15619304       Onio          502    France   \n",
            "3              3          4    15701354       Boni          699    France   \n",
            "4              4          5    15737888   Mitchell          850     Spain   \n",
            "...          ...        ...         ...        ...          ...       ...   \n",
            "9995        9995       9996    15606229   Obijiaku          771    France   \n",
            "9996        9996       9997    15569892  Johnstone          516    France   \n",
            "9997        9997       9998    15584532        Liu          709    France   \n",
            "9998        9998       9999    15682355  Sabbatini          772   Germany   \n",
            "9999        9999      10000    15628319     Walker          792    France   \n",
            "\n",
            "      Gender  Age  Tenure    Balance  NumOfProducts  HasCrCard  \\\n",
            "0     Female   42       2       0.00              1          1   \n",
            "1     Female   41       1   83807.86              1          0   \n",
            "2     Female   42       8  159660.80              3          1   \n",
            "3     Female   39       1       0.00              2          0   \n",
            "4     Female   43       2  125510.82              1          1   \n",
            "...      ...  ...     ...        ...            ...        ...   \n",
            "9995    Male   39       5       0.00              2          1   \n",
            "9996    Male   35      10   57369.61              1          1   \n",
            "9997  Female   36       7       0.00              1          0   \n",
            "9998    Male   42       3   75075.31              2          1   \n",
            "9999  Female   28       4  130142.79              1          1   \n",
            "\n",
            "      IsActiveMember  EstimatedSalary  Exited  \n",
            "0                  1        101348.88       1  \n",
            "1                  1        112542.58       0  \n",
            "2                  0        113931.57       1  \n",
            "3                  0         93826.63       0  \n",
            "4                  1         79084.10       0  \n",
            "...              ...              ...     ...  \n",
            "9995               0         96270.64       0  \n",
            "9996               1        101699.77       0  \n",
            "9997               1         42085.58       1  \n",
            "9998               0         92888.52       1  \n",
            "9999               0         38190.78       0  \n",
            "\n",
            "[10000 rows x 15 columns]]       RowNumber  CustomerId    Surname  CreditScore Geography  Gender  Age  \\\n",
            "0             1    15634602   Hargrave          619    France  Female   42   \n",
            "1             2    15647311       Hill          608     Spain  Female   41   \n",
            "2             3    15619304       Onio          502    France  Female   42   \n",
            "3             4    15701354       Boni          699    France  Female   39   \n",
            "4             5    15737888   Mitchell          850     Spain  Female   43   \n",
            "...         ...         ...        ...          ...       ...     ...  ...   \n",
            "9995       9996    15606229   Obijiaku          771    France    Male   39   \n",
            "9996       9997    15569892  Johnstone          516    France    Male   35   \n",
            "9997       9998    15584532        Liu          709    France  Female   36   \n",
            "9998       9999    15682355  Sabbatini          772   Germany    Male   42   \n",
            "9999      10000    15628319     Walker          792    France  Female   28   \n",
            "\n",
            "      Tenure    Balance  NumOfProducts  HasCrCard  IsActiveMember  \\\n",
            "0          2       0.00              1          1               1   \n",
            "1          1   83807.86              1          0               1   \n",
            "2          8  159660.80              3          1               0   \n",
            "3          1       0.00              2          0               0   \n",
            "4          2  125510.82              1          1               1   \n",
            "...      ...        ...            ...        ...             ...   \n",
            "9995       5       0.00              2          1               0   \n",
            "9996      10   57369.61              1          1               1   \n",
            "9997       7       0.00              1          0               1   \n",
            "9998       3   75075.31              2          1               0   \n",
            "9999       4  130142.79              1          1               0   \n",
            "\n",
            "      EstimatedSalary  Exited  \n",
            "0           101348.88       1  \n",
            "1           112542.58       0  \n",
            "2           113931.57       1  \n",
            "3            93826.63       0  \n",
            "4            79084.10       0  \n",
            "...               ...     ...  \n",
            "9995         96270.64       0  \n",
            "9996        101699.77       0  \n",
            "9997         42085.58       1  \n",
            "9998         92888.52       1  \n",
            "9999         38190.78       0  \n",
            "\n",
            "[10000 rows x 14 columns]\n"
          ]
        }
      ]
    },
    {
      "cell_type": "code",
      "source": [
        "df1.to_html('churn_modelling_html.html')"
      ],
      "metadata": {
        "id": "oxoFthszPULx"
      },
      "execution_count": null,
      "outputs": []
    },
    {
      "cell_type": "code",
      "source": [
        "df1.to_excel('churn_modelling_xlsx.xlsx')"
      ],
      "metadata": {
        "id": "1vLmLSx-WBW0"
      },
      "execution_count": null,
      "outputs": []
    },
    {
      "cell_type": "code",
      "source": [
        "!pip install xlwt\n",
        "import xlwt\n",
        "df1.to_excel('churn_modelling_xls.xls')"
      ],
      "metadata": {
        "colab": {
          "base_uri": "https://localhost:8080/"
        },
        "id": "HWueJI63WL8z",
        "outputId": "a9b81d7a-29ee-4155-c75c-437299e86dae"
      },
      "execution_count": null,
      "outputs": [
        {
          "output_type": "stream",
          "name": "stdout",
          "text": [
            "Looking in indexes: https://pypi.org/simple, https://us-python.pkg.dev/colab-wheels/public/simple/\n",
            "Requirement already satisfied: xlwt in /usr/local/lib/python3.10/dist-packages (1.3.0)\n"
          ]
        },
        {
          "output_type": "stream",
          "name": "stderr",
          "text": [
            "<ipython-input-32-957ccbfcdb8a>:3: FutureWarning: As the xlwt package is no longer maintained, the xlwt engine will be removed in a future version of pandas. This is the only engine in pandas that supports writing in the xls format. Install openpyxl and write to an xlsx file instead. You can set the option io.excel.xls.writer to 'xlwt' to silence this warning. While this option is deprecated and will also raise a warning, it can be globally set and the warning suppressed.\n",
            "  df1.to_excel('churn_modelling_xls.xls')\n"
          ]
        }
      ]
    },
    {
      "cell_type": "code",
      "source": [
        "df1.to_json('churn_modelling_json.json')"
      ],
      "metadata": {
        "id": "wvvT9ss0XP1-"
      },
      "execution_count": null,
      "outputs": []
    },
    {
      "cell_type": "code",
      "source": [
        "df1.to_xml('churn_modelling_xml.xml')"
      ],
      "metadata": {
        "id": "xgK3Z0G0ZBX1"
      },
      "execution_count": null,
      "outputs": []
    },
    {
      "cell_type": "markdown",
      "source": [
        "# Python Pandas Series"
      ],
      "metadata": {
        "id": "2UxJ-gyGK3PL"
      }
    },
    {
      "cell_type": "code",
      "source": [
        "import pandas as pd\n",
        "\n",
        "lst1 = [21,32,43,54,65,76,87,98,9,10]\n",
        "ser1 = pd.Series(lst1)\n",
        "print(ser1)\n",
        "print(type(ser1))\n",
        "ser1.ndim, ser1.shape, ser1.size"
      ],
      "metadata": {
        "colab": {
          "base_uri": "https://localhost:8080/"
        },
        "id": "OSJf8jC0F5Lc",
        "outputId": "c0a7219f-18b7-4b4e-86b7-b8d838259aca"
      },
      "execution_count": null,
      "outputs": [
        {
          "output_type": "stream",
          "name": "stdout",
          "text": [
            "0    21\n",
            "1    32\n",
            "2    43\n",
            "3    54\n",
            "4    65\n",
            "5    76\n",
            "6    87\n",
            "7    98\n",
            "8     9\n",
            "9    10\n",
            "dtype: int64\n",
            "<class 'pandas.core.series.Series'>\n"
          ]
        },
        {
          "output_type": "execute_result",
          "data": {
            "text/plain": [
              "(1, (10,), 10)"
            ]
          },
          "metadata": {},
          "execution_count": 2
        }
      ]
    },
    {
      "cell_type": "code",
      "source": [
        "tup1 = ('a','b','c','d','e','f','g','h','i','j')\n",
        "ser2 = pd.Series(tup1)\n",
        "print(ser2)\n",
        "print(type(ser2))\n",
        "ser2.ndim, ser2.shape, ser2.size"
      ],
      "metadata": {
        "colab": {
          "base_uri": "https://localhost:8080/"
        },
        "id": "fzYi3vMwOzhh",
        "outputId": "056f5b15-f0d0-47df-9033-ae6b4fb081a7"
      },
      "execution_count": null,
      "outputs": [
        {
          "output_type": "stream",
          "name": "stdout",
          "text": [
            "0    a\n",
            "1    b\n",
            "2    c\n",
            "3    d\n",
            "4    e\n",
            "5    f\n",
            "6    g\n",
            "7    h\n",
            "8    i\n",
            "9    j\n",
            "dtype: object\n",
            "<class 'pandas.core.series.Series'>\n"
          ]
        },
        {
          "output_type": "execute_result",
          "data": {
            "text/plain": [
              "(1, (10,), 10)"
            ]
          },
          "metadata": {},
          "execution_count": 3
        }
      ]
    },
    {
      "cell_type": "code",
      "source": [
        "set1 = {1,2,3,4,5,6,7,8,9,0}\n",
        "ser3 = pd.Series(set1)"
      ],
      "metadata": {
        "colab": {
          "base_uri": "https://localhost:8080/",
          "height": 346
        },
        "id": "Hjl-0FPiPYck",
        "outputId": "b5d4de0e-f233-4344-add0-8b606674721f"
      },
      "execution_count": null,
      "outputs": [
        {
          "output_type": "error",
          "ename": "TypeError",
          "evalue": "ignored",
          "traceback": [
            "\u001b[0;31m---------------------------------------------------------------------------\u001b[0m",
            "\u001b[0;31mTypeError\u001b[0m                                 Traceback (most recent call last)",
            "\u001b[0;32m<ipython-input-5-6f3d5613d82c>\u001b[0m in \u001b[0;36m<cell line: 2>\u001b[0;34m()\u001b[0m\n\u001b[1;32m      1\u001b[0m \u001b[0mset1\u001b[0m \u001b[0;34m=\u001b[0m \u001b[0;34m{\u001b[0m\u001b[0;36m1\u001b[0m\u001b[0;34m,\u001b[0m\u001b[0;36m2\u001b[0m\u001b[0;34m,\u001b[0m\u001b[0;36m3\u001b[0m\u001b[0;34m,\u001b[0m\u001b[0;36m4\u001b[0m\u001b[0;34m,\u001b[0m\u001b[0;36m5\u001b[0m\u001b[0;34m,\u001b[0m\u001b[0;36m6\u001b[0m\u001b[0;34m,\u001b[0m\u001b[0;36m7\u001b[0m\u001b[0;34m,\u001b[0m\u001b[0;36m8\u001b[0m\u001b[0;34m,\u001b[0m\u001b[0;36m9\u001b[0m\u001b[0;34m,\u001b[0m\u001b[0;36m0\u001b[0m\u001b[0;34m}\u001b[0m\u001b[0;34m\u001b[0m\u001b[0;34m\u001b[0m\u001b[0m\n\u001b[0;32m----> 2\u001b[0;31m \u001b[0mser3\u001b[0m \u001b[0;34m=\u001b[0m \u001b[0mpd\u001b[0m\u001b[0;34m.\u001b[0m\u001b[0mSeries\u001b[0m\u001b[0;34m(\u001b[0m\u001b[0mset1\u001b[0m\u001b[0;34m)\u001b[0m\u001b[0;34m\u001b[0m\u001b[0;34m\u001b[0m\u001b[0m\n\u001b[0m",
            "\u001b[0;32m/usr/local/lib/python3.10/dist-packages/pandas/core/series.py\u001b[0m in \u001b[0;36m__init__\u001b[0;34m(self, data, index, dtype, name, copy, fastpath)\u001b[0m\n\u001b[1;32m    468\u001b[0m                     \u001b[0mdata\u001b[0m \u001b[0;34m=\u001b[0m \u001b[0mdata\u001b[0m\u001b[0;34m.\u001b[0m\u001b[0mcopy\u001b[0m\u001b[0;34m(\u001b[0m\u001b[0;34m)\u001b[0m\u001b[0;34m\u001b[0m\u001b[0;34m\u001b[0m\u001b[0m\n\u001b[1;32m    469\u001b[0m             \u001b[0;32melse\u001b[0m\u001b[0;34m:\u001b[0m\u001b[0;34m\u001b[0m\u001b[0;34m\u001b[0m\u001b[0m\n\u001b[0;32m--> 470\u001b[0;31m                 \u001b[0mdata\u001b[0m \u001b[0;34m=\u001b[0m \u001b[0msanitize_array\u001b[0m\u001b[0;34m(\u001b[0m\u001b[0mdata\u001b[0m\u001b[0;34m,\u001b[0m \u001b[0mindex\u001b[0m\u001b[0;34m,\u001b[0m \u001b[0mdtype\u001b[0m\u001b[0;34m,\u001b[0m \u001b[0mcopy\u001b[0m\u001b[0;34m)\u001b[0m\u001b[0;34m\u001b[0m\u001b[0;34m\u001b[0m\u001b[0m\n\u001b[0m\u001b[1;32m    471\u001b[0m \u001b[0;34m\u001b[0m\u001b[0m\n\u001b[1;32m    472\u001b[0m                 \u001b[0mmanager\u001b[0m \u001b[0;34m=\u001b[0m \u001b[0mget_option\u001b[0m\u001b[0;34m(\u001b[0m\u001b[0;34m\"mode.data_manager\"\u001b[0m\u001b[0;34m)\u001b[0m\u001b[0;34m\u001b[0m\u001b[0;34m\u001b[0m\u001b[0m\n",
            "\u001b[0;32m/usr/local/lib/python3.10/dist-packages/pandas/core/construction.py\u001b[0m in \u001b[0;36msanitize_array\u001b[0;34m(data, index, dtype, copy, raise_cast_failure, allow_2d)\u001b[0m\n\u001b[1;32m    609\u001b[0m         \u001b[0;32mif\u001b[0m \u001b[0misinstance\u001b[0m\u001b[0;34m(\u001b[0m\u001b[0mdata\u001b[0m\u001b[0;34m,\u001b[0m \u001b[0;34m(\u001b[0m\u001b[0mset\u001b[0m\u001b[0;34m,\u001b[0m \u001b[0mfrozenset\u001b[0m\u001b[0;34m)\u001b[0m\u001b[0;34m)\u001b[0m\u001b[0;34m:\u001b[0m\u001b[0;34m\u001b[0m\u001b[0;34m\u001b[0m\u001b[0m\n\u001b[1;32m    610\u001b[0m             \u001b[0;31m# Raise only for unordered sets, e.g., not for dict_keys\u001b[0m\u001b[0;34m\u001b[0m\u001b[0;34m\u001b[0m\u001b[0m\n\u001b[0;32m--> 611\u001b[0;31m             \u001b[0;32mraise\u001b[0m \u001b[0mTypeError\u001b[0m\u001b[0;34m(\u001b[0m\u001b[0;34mf\"'{type(data).__name__}' type is unordered\"\u001b[0m\u001b[0;34m)\u001b[0m\u001b[0;34m\u001b[0m\u001b[0;34m\u001b[0m\u001b[0m\n\u001b[0m\u001b[1;32m    612\u001b[0m \u001b[0;34m\u001b[0m\u001b[0m\n\u001b[1;32m    613\u001b[0m         \u001b[0;31m# materialize e.g. generators, convert e.g. tuples, abc.ValueView\u001b[0m\u001b[0;34m\u001b[0m\u001b[0;34m\u001b[0m\u001b[0m\n",
            "\u001b[0;31mTypeError\u001b[0m: 'set' type is unordered"
          ]
        }
      ]
    },
    {
      "cell_type": "code",
      "source": [
        "dict1 = {'a':'b','c':'d','e':'f','g':'h','i':'j'}\n",
        "ser4 = pd.Series(dict1)\n",
        "print(ser4)\n",
        "print(type(ser4))\n",
        "ser4.dtypes, ser4.shape, ser4.size, ser4.ndim"
      ],
      "metadata": {
        "colab": {
          "base_uri": "https://localhost:8080/"
        },
        "id": "cbl2DX2BT48r",
        "outputId": "ba8c966b-1225-4c9e-e534-4f97039427f9"
      },
      "execution_count": null,
      "outputs": [
        {
          "output_type": "stream",
          "name": "stdout",
          "text": [
            "a    b\n",
            "c    d\n",
            "e    f\n",
            "g    h\n",
            "i    j\n",
            "dtype: object\n",
            "<class 'pandas.core.series.Series'>\n"
          ]
        },
        {
          "output_type": "execute_result",
          "data": {
            "text/plain": [
              "(dtype('O'), (5,), 5, 1)"
            ]
          },
          "metadata": {},
          "execution_count": 11
        }
      ]
    },
    {
      "cell_type": "code",
      "source": [
        "str1 = 'Python Programming'\n",
        "ser5 = pd.Series(str1)\n",
        "print(ser5)\n",
        "print(type(ser5))\n",
        "ser5.ndim, ser5.dtypes, ser5.shape, ser5.size"
      ],
      "metadata": {
        "colab": {
          "base_uri": "https://localhost:8080/"
        },
        "id": "3zg-IZTOSj0l",
        "outputId": "397b6a0b-f9eb-4bc8-caac-05a29cc5abb2"
      },
      "execution_count": null,
      "outputs": [
        {
          "output_type": "stream",
          "name": "stdout",
          "text": [
            "0    Python Programming\n",
            "dtype: object\n",
            "<class 'pandas.core.series.Series'>\n"
          ]
        },
        {
          "output_type": "execute_result",
          "data": {
            "text/plain": [
              "(1, dtype('O'), (1,), 1)"
            ]
          },
          "metadata": {},
          "execution_count": 9
        }
      ]
    },
    {
      "cell_type": "code",
      "source": [
        "ser1.dtypes, ser2.dtypes, ser4.dtypes, ser5.dtypes"
      ],
      "metadata": {
        "colab": {
          "base_uri": "https://localhost:8080/"
        },
        "id": "FfpxlmrRTwTS",
        "outputId": "0cf00848-5907-42e2-f0e5-9b98ec43e625"
      },
      "execution_count": null,
      "outputs": [
        {
          "output_type": "execute_result",
          "data": {
            "text/plain": [
              "(dtype('int64'), dtype('O'), dtype('O'), dtype('O'))"
            ]
          },
          "metadata": {},
          "execution_count": 12
        }
      ]
    },
    {
      "cell_type": "code",
      "source": [
        "ser1.shape, ser2.shape, ser4.shape, ser5.shape"
      ],
      "metadata": {
        "colab": {
          "base_uri": "https://localhost:8080/"
        },
        "id": "ai6d5b6rUlg5",
        "outputId": "941cd30e-dcae-422c-b09b-15f2730ed61c"
      },
      "execution_count": null,
      "outputs": [
        {
          "output_type": "execute_result",
          "data": {
            "text/plain": [
              "((10,), (10,), (5,), (1,))"
            ]
          },
          "metadata": {},
          "execution_count": 13
        }
      ]
    },
    {
      "cell_type": "code",
      "source": [
        "ser1.size, ser2.size, ser4.size, ser5.size"
      ],
      "metadata": {
        "colab": {
          "base_uri": "https://localhost:8080/"
        },
        "id": "-0MZDv_nUupQ",
        "outputId": "ce492379-48ee-49dd-f984-767309b15729"
      },
      "execution_count": null,
      "outputs": [
        {
          "output_type": "execute_result",
          "data": {
            "text/plain": [
              "(10, 10, 5, 1)"
            ]
          },
          "metadata": {},
          "execution_count": 15
        }
      ]
    },
    {
      "cell_type": "code",
      "source": [
        "# Series.itemsize is deprecated and will be removed in a future version\n",
        "ser1.itemsize, ser2.itemsize, ser4.itemsize, ser5.itemsize"
      ],
      "metadata": {
        "colab": {
          "base_uri": "https://localhost:8080/",
          "height": 287
        },
        "id": "QX4rP4YlU2Pw",
        "outputId": "ff233c71-57eb-4a48-db0f-b95cf7a8c6e6"
      },
      "execution_count": null,
      "outputs": [
        {
          "output_type": "error",
          "ename": "AttributeError",
          "evalue": "ignored",
          "traceback": [
            "\u001b[0;31m---------------------------------------------------------------------------\u001b[0m",
            "\u001b[0;31mAttributeError\u001b[0m                            Traceback (most recent call last)",
            "\u001b[0;32m<ipython-input-16-e8d9dbd07184>\u001b[0m in \u001b[0;36m<cell line: 1>\u001b[0;34m()\u001b[0m\n\u001b[0;32m----> 1\u001b[0;31m \u001b[0mser1\u001b[0m\u001b[0;34m.\u001b[0m\u001b[0mitemsize\u001b[0m\u001b[0;34m,\u001b[0m \u001b[0mser2\u001b[0m\u001b[0;34m.\u001b[0m\u001b[0mitemsize\u001b[0m\u001b[0;34m,\u001b[0m \u001b[0mser4\u001b[0m\u001b[0;34m.\u001b[0m\u001b[0mitemsize\u001b[0m\u001b[0;34m,\u001b[0m \u001b[0mser5\u001b[0m\u001b[0;34m.\u001b[0m\u001b[0mitemsize\u001b[0m\u001b[0;34m\u001b[0m\u001b[0;34m\u001b[0m\u001b[0m\n\u001b[0m",
            "\u001b[0;32m/usr/local/lib/python3.10/dist-packages/pandas/core/generic.py\u001b[0m in \u001b[0;36m__getattr__\u001b[0;34m(self, name)\u001b[0m\n\u001b[1;32m   5900\u001b[0m         ):\n\u001b[1;32m   5901\u001b[0m             \u001b[0;32mreturn\u001b[0m \u001b[0mself\u001b[0m\u001b[0;34m[\u001b[0m\u001b[0mname\u001b[0m\u001b[0;34m]\u001b[0m\u001b[0;34m\u001b[0m\u001b[0;34m\u001b[0m\u001b[0m\n\u001b[0;32m-> 5902\u001b[0;31m         \u001b[0;32mreturn\u001b[0m \u001b[0mobject\u001b[0m\u001b[0;34m.\u001b[0m\u001b[0m__getattribute__\u001b[0m\u001b[0;34m(\u001b[0m\u001b[0mself\u001b[0m\u001b[0;34m,\u001b[0m \u001b[0mname\u001b[0m\u001b[0;34m)\u001b[0m\u001b[0;34m\u001b[0m\u001b[0;34m\u001b[0m\u001b[0m\n\u001b[0m\u001b[1;32m   5903\u001b[0m \u001b[0;34m\u001b[0m\u001b[0m\n\u001b[1;32m   5904\u001b[0m     \u001b[0;32mdef\u001b[0m \u001b[0m__setattr__\u001b[0m\u001b[0;34m(\u001b[0m\u001b[0mself\u001b[0m\u001b[0;34m,\u001b[0m \u001b[0mname\u001b[0m\u001b[0;34m:\u001b[0m \u001b[0mstr\u001b[0m\u001b[0;34m,\u001b[0m \u001b[0mvalue\u001b[0m\u001b[0;34m)\u001b[0m \u001b[0;34m->\u001b[0m \u001b[0;32mNone\u001b[0m\u001b[0;34m:\u001b[0m\u001b[0;34m\u001b[0m\u001b[0;34m\u001b[0m\u001b[0m\n",
            "\u001b[0;31mAttributeError\u001b[0m: 'Series' object has no attribute 'itemsize'"
          ]
        }
      ]
    },
    {
      "cell_type": "code",
      "source": [
        "ser1.nbytes, ser2.nbytes, ser4.nbytes, ser5.nbytes"
      ],
      "metadata": {
        "colab": {
          "base_uri": "https://localhost:8080/"
        },
        "id": "xWVByWumVN_y",
        "outputId": "c3d190b6-71a4-4a94-d360-93ab3359110f"
      },
      "execution_count": null,
      "outputs": [
        {
          "output_type": "execute_result",
          "data": {
            "text/plain": [
              "(80, 80, 40, 8)"
            ]
          },
          "metadata": {},
          "execution_count": 17
        }
      ]
    },
    {
      "cell_type": "code",
      "source": [
        "ser1.ndim, ser2.ndim, ser4.ndim, ser5.ndim"
      ],
      "metadata": {
        "colab": {
          "base_uri": "https://localhost:8080/"
        },
        "id": "9t1aqPobVdY4",
        "outputId": "fb6ce3ca-db53-4c15-ae2a-258323721397"
      },
      "execution_count": null,
      "outputs": [
        {
          "output_type": "execute_result",
          "data": {
            "text/plain": [
              "(1, 1, 1, 1)"
            ]
          },
          "metadata": {},
          "execution_count": 18
        }
      ]
    },
    {
      "cell_type": "code",
      "source": [
        "ser1.count(), ser2.count(), ser4.count(), ser5.count()"
      ],
      "metadata": {
        "colab": {
          "base_uri": "https://localhost:8080/"
        },
        "id": "C0_OA3dVVpwg",
        "outputId": "b2eb3cad-a25a-423c-b54f-4d57c5fabdc7"
      },
      "execution_count": null,
      "outputs": [
        {
          "output_type": "execute_result",
          "data": {
            "text/plain": [
              "(10, 10, 5, 1)"
            ]
          },
          "metadata": {},
          "execution_count": 19
        }
      ]
    },
    {
      "cell_type": "code",
      "source": [
        "len(ser1), len(ser2), len(ser4), len(ser5), len(str1)"
      ],
      "metadata": {
        "colab": {
          "base_uri": "https://localhost:8080/"
        },
        "id": "5BT2iOM9V2gC",
        "outputId": "7aa0fd0d-f601-416a-843c-3e15b5f27849"
      },
      "execution_count": null,
      "outputs": [
        {
          "output_type": "execute_result",
          "data": {
            "text/plain": [
              "(10, 10, 5, 1, 18)"
            ]
          },
          "metadata": {},
          "execution_count": 21
        }
      ]
    },
    {
      "cell_type": "code",
      "source": [
        "ser1, lst1"
      ],
      "metadata": {
        "colab": {
          "base_uri": "https://localhost:8080/"
        },
        "id": "I90ePpBwWybw",
        "outputId": "6c5aad4a-6cc4-4d2f-d756-4d5752027a4a"
      },
      "execution_count": null,
      "outputs": [
        {
          "output_type": "execute_result",
          "data": {
            "text/plain": [
              "(0    21\n",
              " 1    32\n",
              " 2    43\n",
              " 3    54\n",
              " 4    65\n",
              " 5    76\n",
              " 6    87\n",
              " 7    98\n",
              " 8     9\n",
              " 9    10\n",
              " dtype: int64,\n",
              " [21, 32, 43, 54, 65, 76, 87, 98, 9, 10])"
            ]
          },
          "metadata": {},
          "execution_count": 23
        }
      ]
    },
    {
      "cell_type": "code",
      "source": [
        "ser6 = pd.Series(lst1, index=[11,22,33,44,55,66,77,88,99,110])\n",
        "print(ser6)\n",
        "print(type(ser6))\n",
        "ser6.ndim, ser6.size , ser6.nbytes , ser6.shape , len(ser6) , ser6.count() , ser6.dtypes  "
      ],
      "metadata": {
        "colab": {
          "base_uri": "https://localhost:8080/"
        },
        "id": "efAgWbfOW_Ef",
        "outputId": "fe128c71-0c29-4f10-8897-04eb332bc268"
      },
      "execution_count": null,
      "outputs": [
        {
          "output_type": "stream",
          "name": "stdout",
          "text": [
            "11     21\n",
            "22     32\n",
            "33     43\n",
            "44     54\n",
            "55     65\n",
            "66     76\n",
            "77     87\n",
            "88     98\n",
            "99      9\n",
            "110    10\n",
            "dtype: int64\n",
            "<class 'pandas.core.series.Series'>\n"
          ]
        },
        {
          "output_type": "execute_result",
          "data": {
            "text/plain": [
              "(1, 10, 80, (10,), 10, 10, dtype('int64'))"
            ]
          },
          "metadata": {},
          "execution_count": 25
        }
      ]
    },
    {
      "cell_type": "code",
      "source": [
        "ser6"
      ],
      "metadata": {
        "colab": {
          "base_uri": "https://localhost:8080/"
        },
        "id": "2coZJEg9Zivh",
        "outputId": "097d316d-7cb0-452b-9d50-10091ff65f41"
      },
      "execution_count": null,
      "outputs": [
        {
          "output_type": "execute_result",
          "data": {
            "text/plain": [
              "11     21\n",
              "22     32\n",
              "33     43\n",
              "44     54\n",
              "55     65\n",
              "66     76\n",
              "77     87\n",
              "88     98\n",
              "99      9\n",
              "110    10\n",
              "dtype: int64"
            ]
          },
          "metadata": {},
          "execution_count": 26
        }
      ]
    },
    {
      "cell_type": "code",
      "source": [
        "ser6.index = ['a','b','c','d','e','f','g','h', 'i', 'j']"
      ],
      "metadata": {
        "id": "X9hRu1tiZkeJ"
      },
      "execution_count": null,
      "outputs": []
    },
    {
      "cell_type": "code",
      "source": [
        "ser6"
      ],
      "metadata": {
        "colab": {
          "base_uri": "https://localhost:8080/"
        },
        "id": "kMvmYoDTZxe1",
        "outputId": "9da14acf-fbb2-4e56-c578-81a5912b6ac5"
      },
      "execution_count": null,
      "outputs": [
        {
          "output_type": "execute_result",
          "data": {
            "text/plain": [
              "a    21\n",
              "b    32\n",
              "c    43\n",
              "d    54\n",
              "e    65\n",
              "f    76\n",
              "g    87\n",
              "h    98\n",
              "i     9\n",
              "j    10\n",
              "dtype: int64"
            ]
          },
          "metadata": {},
          "execution_count": 28
        }
      ]
    },
    {
      "cell_type": "code",
      "source": [
        "ser6, ser6[:], ser6[:5], ser6[3:7]"
      ],
      "metadata": {
        "colab": {
          "base_uri": "https://localhost:8080/"
        },
        "id": "EvixeiM2fDvX",
        "outputId": "9bfdc461-36ea-4fc6-dcc8-2d6e8e20936c"
      },
      "execution_count": null,
      "outputs": [
        {
          "output_type": "execute_result",
          "data": {
            "text/plain": [
              "(a    21\n",
              " b    32\n",
              " c    43\n",
              " d    54\n",
              " e    65\n",
              " f    76\n",
              " g    87\n",
              " h    98\n",
              " i     9\n",
              " j    10\n",
              " dtype: int64,\n",
              " a    21\n",
              " b    32\n",
              " c    43\n",
              " d    54\n",
              " e    65\n",
              " f    76\n",
              " g    87\n",
              " h    98\n",
              " i     9\n",
              " j    10\n",
              " dtype: int64,\n",
              " a    21\n",
              " b    32\n",
              " c    43\n",
              " d    54\n",
              " e    65\n",
              " dtype: int64,\n",
              " d    54\n",
              " e    65\n",
              " f    76\n",
              " g    87\n",
              " dtype: int64)"
            ]
          },
          "metadata": {},
          "execution_count": 34
        }
      ]
    },
    {
      "cell_type": "code",
      "source": [
        "ser6"
      ],
      "metadata": {
        "colab": {
          "base_uri": "https://localhost:8080/"
        },
        "id": "i_CJbpCKgg4e",
        "outputId": "25cb3732-095e-4a70-caf8-64c67e4efb58"
      },
      "execution_count": null,
      "outputs": [
        {
          "output_type": "execute_result",
          "data": {
            "text/plain": [
              "a    21\n",
              "b    32\n",
              "c    43\n",
              "d    54\n",
              "e    65\n",
              "f    76\n",
              "g    87\n",
              "h    98\n",
              "i     9\n",
              "j    10\n",
              "dtype: int64"
            ]
          },
          "metadata": {},
          "execution_count": 35
        }
      ]
    },
    {
      "cell_type": "code",
      "source": [
        "cp_ser6 = ser6.copy()"
      ],
      "metadata": {
        "id": "ApKbO7_ejWTa"
      },
      "execution_count": null,
      "outputs": []
    },
    {
      "cell_type": "code",
      "source": [
        "cp_ser6"
      ],
      "metadata": {
        "colab": {
          "base_uri": "https://localhost:8080/"
        },
        "id": "HqMuAx6vjcVo",
        "outputId": "28b3b6d1-6a1b-409d-bbf1-8e79e382ef54"
      },
      "execution_count": null,
      "outputs": [
        {
          "output_type": "execute_result",
          "data": {
            "text/plain": [
              "a    21\n",
              "b    32\n",
              "c    43\n",
              "d    54\n",
              "e    65\n",
              "f    76\n",
              "g    87\n",
              "h    98\n",
              "i     9\n",
              "j    10\n",
              "dtype: int64"
            ]
          },
          "metadata": {},
          "execution_count": 37
        }
      ]
    },
    {
      "cell_type": "code",
      "source": [
        "ser7 = cp_ser6.append(ser6)"
      ],
      "metadata": {
        "colab": {
          "base_uri": "https://localhost:8080/"
        },
        "id": "9twcWD5SjgnX",
        "outputId": "0c8f679b-bb96-4dec-b5a8-252c2b45f51c"
      },
      "execution_count": null,
      "outputs": [
        {
          "output_type": "stream",
          "name": "stderr",
          "text": [
            "<ipython-input-38-1113602d82b5>:1: FutureWarning: The series.append method is deprecated and will be removed from pandas in a future version. Use pandas.concat instead.\n",
            "  ser7 = cp_ser6.append(ser6)\n"
          ]
        }
      ]
    },
    {
      "cell_type": "code",
      "source": [
        "ser7"
      ],
      "metadata": {
        "colab": {
          "base_uri": "https://localhost:8080/"
        },
        "id": "qYY0MhUqjyH-",
        "outputId": "5c9501eb-d03d-4327-e298-738c925e7f59"
      },
      "execution_count": null,
      "outputs": [
        {
          "output_type": "execute_result",
          "data": {
            "text/plain": [
              "a    21\n",
              "b    32\n",
              "c    43\n",
              "d    54\n",
              "e    65\n",
              "f    76\n",
              "g    87\n",
              "h    98\n",
              "i     9\n",
              "j    10\n",
              "a    21\n",
              "b    32\n",
              "c    43\n",
              "d    54\n",
              "e    65\n",
              "f    76\n",
              "g    87\n",
              "h    98\n",
              "i     9\n",
              "j    10\n",
              "dtype: int64"
            ]
          },
          "metadata": {},
          "execution_count": 39
        }
      ]
    },
    {
      "cell_type": "code",
      "source": [
        "ser7.drop('j', inplace=True)\n",
        "ser7"
      ],
      "metadata": {
        "colab": {
          "base_uri": "https://localhost:8080/"
        },
        "id": "gocv4AWjj979",
        "outputId": "6152a02a-9cfe-4fb5-80ad-8908b39a498d"
      },
      "execution_count": null,
      "outputs": [
        {
          "output_type": "execute_result",
          "data": {
            "text/plain": [
              "a    21\n",
              "b    32\n",
              "c    43\n",
              "d    54\n",
              "e    65\n",
              "f    76\n",
              "g    87\n",
              "h    98\n",
              "i     9\n",
              "a    21\n",
              "b    32\n",
              "c    43\n",
              "d    54\n",
              "e    65\n",
              "f    76\n",
              "g    87\n",
              "h    98\n",
              "i     9\n",
              "dtype: int64"
            ]
          },
          "metadata": {},
          "execution_count": 41
        }
      ]
    },
    {
      "cell_type": "code",
      "source": [
        "ser6.mean()"
      ],
      "metadata": {
        "colab": {
          "base_uri": "https://localhost:8080/"
        },
        "id": "_b0G_xBqmTNs",
        "outputId": "589beeb4-f287-422b-a30b-b9948595d514"
      },
      "execution_count": null,
      "outputs": [
        {
          "output_type": "execute_result",
          "data": {
            "text/plain": [
              "49.5"
            ]
          },
          "metadata": {},
          "execution_count": 42
        }
      ]
    },
    {
      "cell_type": "code",
      "source": [
        "ser6.median()"
      ],
      "metadata": {
        "colab": {
          "base_uri": "https://localhost:8080/"
        },
        "id": "-VSK-MX6mdrF",
        "outputId": "f4ac9093-2140-44e9-9d8e-9c8de6822312"
      },
      "execution_count": null,
      "outputs": [
        {
          "output_type": "execute_result",
          "data": {
            "text/plain": [
              "48.5"
            ]
          },
          "metadata": {},
          "execution_count": 43
        }
      ]
    },
    {
      "cell_type": "code",
      "source": [
        "ser6.mode()"
      ],
      "metadata": {
        "id": "OwxfoNH9mhwl",
        "outputId": "345a1ad6-42eb-49dd-a783-6a8b785b4660",
        "colab": {
          "base_uri": "https://localhost:8080/"
        }
      },
      "execution_count": null,
      "outputs": [
        {
          "output_type": "execute_result",
          "data": {
            "text/plain": [
              "0     9\n",
              "1    10\n",
              "2    21\n",
              "3    32\n",
              "4    43\n",
              "5    54\n",
              "6    65\n",
              "7    76\n",
              "8    87\n",
              "9    98\n",
              "dtype: int64"
            ]
          },
          "metadata": {},
          "execution_count": 44
        }
      ]
    },
    {
      "cell_type": "markdown",
      "source": [
        "#**File Handling**\n",
        "\n",
        "    \"r\" - Read - Default value. Opens a file for reading, error if the file does not exist\n",
        "\n",
        "    \"a\" - Append - Opens a file for appending, creates the file if it does not exist\n",
        "\n",
        "    \"w\" - Write - Opens a file for writing, creates the file if it does not exist\n",
        "\n",
        "    \"x\" - Create - Creates the specified file, returns an error if the file exists"
      ],
      "metadata": {
        "id": "g_T5M-4Xaa-z"
      }
    },
    {
      "cell_type": "markdown",
      "source": [
        "    \"t\" - Text - Default value. Text mode\n",
        "\n",
        "    \"b\" - Binary - Binary mode (e.g. images)"
      ],
      "metadata": {
        "id": "AjfCmtoWatl1"
      }
    },
    {
      "cell_type": "code",
      "source": [
        "# \"x\" - Create - Creates the specified file, returns an error if the file exists\n",
        "\n",
        "f = open('myfilename1.txt', 'x')"
      ],
      "metadata": {
        "id": "rrli-utOaMTN"
      },
      "execution_count": null,
      "outputs": []
    },
    {
      "cell_type": "code",
      "source": [
        "# \"w\" - Write - Opens a file for writing, creates the file if it does not exist\n",
        "\n",
        "f = open('myfilename1.txt', 'w')\n",
        "f.write('this is first statement in write mode')\n",
        "f.close\n",
        "\n",
        "f = open('myfilename1.txt', 'r')\n",
        "print(f.read())"
      ],
      "metadata": {
        "colab": {
          "base_uri": "https://localhost:8080/"
        },
        "id": "gw2uLilObWIl",
        "outputId": "102c4125-7019-490f-fc77-efce4af8b858"
      },
      "execution_count": null,
      "outputs": [
        {
          "output_type": "stream",
          "name": "stdout",
          "text": [
            "this is first statement in write mode\n"
          ]
        }
      ]
    },
    {
      "cell_type": "code",
      "source": [
        "# \"a\" - Append - Opens a file for appending, creates the file if it does not exist\n",
        "\n",
        "f = open('myfilename1.txt', 'a')\n",
        "f.write('this is second statement in append mode')\n",
        "f.close\n",
        "\n",
        "f = open('myfilename1.txt', 'r')\n",
        "print(f.read())"
      ],
      "metadata": {
        "colab": {
          "base_uri": "https://localhost:8080/"
        },
        "id": "N3xDRnYab3Vb",
        "outputId": "50fab671-b829-4a9a-82c8-b8b3543e4c9d"
      },
      "execution_count": null,
      "outputs": [
        {
          "output_type": "stream",
          "name": "stdout",
          "text": [
            "this is first statement in write modethis is second statement in append mode\n"
          ]
        }
      ]
    },
    {
      "cell_type": "code",
      "source": [
        "# Inbuilt Exceptions\n",
        "# User Define Exceptions"
      ],
      "metadata": {
        "id": "bey3ZAumcsr8"
      },
      "execution_count": null,
      "outputs": []
    },
    {
      "cell_type": "code",
      "source": [
        "lst1 = [1,92,83,74,65,56,47,38,29,10]\n",
        "\n",
        "lst_iter = iter(lst1)\n",
        "\n",
        "print(next(lst_iter))\n",
        "print(next(lst_iter))\n",
        "print(next(lst_iter))\n",
        "print(next(lst_iter))\n",
        "print(next(lst_iter))\n",
        "print(next(lst_iter))\n",
        "print(next(lst_iter))\n",
        "print(next(lst_iter))\n",
        "print(next(lst_iter))\n",
        "print(next(lst_iter))\n",
        "print(next(lst_iter))"
      ],
      "metadata": {
        "id": "QoJfFHZjeRq1"
      },
      "execution_count": null,
      "outputs": []
    },
    {
      "cell_type": "code",
      "source": [
        "lst1 = [1,92,83,74,65,56,47,38,29,10]\n",
        "\n",
        "lst_iter = iter(lst1)\n",
        "\n",
        "try:\n",
        "  print(next(lst_iter))\n",
        "  print(next(lst_iter))\n",
        "  print(next(lst_iter))\n",
        "  print(next(lst_iter))\n",
        "  print(next(lst_iter))\n",
        "  print(next(lst_iter))\n",
        "  print(next(lst_iter))\n",
        "  print(next(lst_iter))\n",
        "  print(next(lst_iter))\n",
        "  print(next(lst_iter))\n",
        "  print(next(lst_iter))\n",
        "\n",
        "except StopIteration as si:\n",
        "  print('StopIteration ', si)  \n",
        "except Exception as e:\n",
        "  print('Universal Exception ', e)  \n",
        "  "
      ],
      "metadata": {
        "id": "0eUTfkIfe8w9"
      },
      "execution_count": null,
      "outputs": []
    },
    {
      "cell_type": "code",
      "source": [
        "# super() function\n",
        "\n",
        "class Alpha:\n",
        "\tclassvar1 = \"classvar1 - Class Alpha - Class local variable\"\n",
        "\tdef __init__(self):\n",
        "\t\tself.var1 = \"self.var1 - Class Alpha - Constructor or __init__ function\"\n",
        "\t\tself.classvar1 = \"self.classvar1 - Class Alpha - Instance variable\"\n",
        "\n",
        "class Beta(Alpha):\n",
        "  classvar1 = \"Class Beta - Class local variable\"\n",
        "  def __init__(self):\n",
        "    \n",
        "    self.var1 = \"self.var1 - Class Beta - Constructor or __init__ function\"\n",
        "    self.classvar1 = \"self.classvar1 - Class Beta - Instance variable\"\n",
        "    print('self.var1 ', self.var1)\n",
        "    print('self.classvar1 ', self.classvar1)\n",
        "    super().__init__()\n",
        "\n",
        "a = Alpha()\n",
        "b = Beta()\n",
        "\n",
        "print(b.classvar1,b.var1)"
      ],
      "metadata": {
        "colab": {
          "base_uri": "https://localhost:8080/"
        },
        "id": "qOVMa_9Efzir",
        "outputId": "2bddc5f5-60c9-4893-fb12-8691ce532aac"
      },
      "execution_count": null,
      "outputs": [
        {
          "output_type": "stream",
          "name": "stdout",
          "text": [
            "self.var1  self.var1 - Class Beta - Constructor or __init__ function\n",
            "self.classvar1  self.classvar1 - Class Beta - Instance variable\n",
            "self.classvar1 - Class Alpha - Instance variable self.var1 - Class Alpha - Constructor or __init__ function\n"
          ]
        }
      ]
    },
    {
      "cell_type": "code",
      "source": [
        "a = 10\n",
        "b = 20\n",
        "\n",
        "print(a)\n",
        "print(b)\n",
        "\n",
        "a = -1947\n",
        "b = -1989\n",
        "\n",
        "print(a)\n",
        "print(b)"
      ],
      "metadata": {
        "colab": {
          "base_uri": "https://localhost:8080/"
        },
        "id": "Ul032FWhipej",
        "outputId": "3496bd48-e606-4c54-e7e1-ee5e3b44f22d"
      },
      "execution_count": null,
      "outputs": [
        {
          "output_type": "stream",
          "name": "stdout",
          "text": [
            "10\n",
            "20\n",
            "-1947\n",
            "-1989\n"
          ]
        }
      ]
    },
    {
      "cell_type": "code",
      "source": [
        "import pandas as pd"
      ],
      "metadata": {
        "id": "mDiilDYBjMZa"
      },
      "execution_count": null,
      "outputs": []
    },
    {
      "cell_type": "code",
      "source": [
        "df = pd.read_csv('/content/Churn_Modelling.csv')\n",
        "df"
      ],
      "metadata": {
        "id": "cpD-IeqqjVYS"
      },
      "execution_count": null,
      "outputs": []
    },
    {
      "cell_type": "code",
      "source": [
        "df.to_html('Churn_Modelling_HTML.html')"
      ],
      "metadata": {
        "id": "-g7z4Qu8jh_c"
      },
      "execution_count": null,
      "outputs": []
    },
    {
      "cell_type": "code",
      "source": [
        "lst1 = ['apple','banana','cherries','dates','eggfruits','fig']\n",
        "ser1 = pd.Series(lst1)\n",
        "print(ser1)\n",
        "print(type(ser1))"
      ],
      "metadata": {
        "colab": {
          "base_uri": "https://localhost:8080/"
        },
        "id": "EWcbk0pmlIES",
        "outputId": "47603b6c-900e-4a6d-eff9-17f9287a109a"
      },
      "execution_count": null,
      "outputs": [
        {
          "output_type": "stream",
          "name": "stdout",
          "text": [
            "0        apple\n",
            "1       banana\n",
            "2     cherries\n",
            "3        dates\n",
            "4    eggfruits\n",
            "5          fig\n",
            "dtype: object\n",
            "<class 'pandas.core.series.Series'>\n"
          ]
        }
      ]
    },
    {
      "cell_type": "code",
      "source": [
        "ser1.index = ['Ahmadabad',\n",
        "              'Birmingham',\n",
        "              'CAIRO',\n",
        "              'DAMASCUS',\n",
        "              'Ecatepec',\n",
        "              'Faisalabad']\n",
        "print(type(ser1))"
      ],
      "metadata": {
        "colab": {
          "base_uri": "https://localhost:8080/"
        },
        "id": "eKvjRHJ8lo3i",
        "outputId": "e2c44240-9fb5-4c09-e617-fac29e248f53"
      },
      "execution_count": null,
      "outputs": [
        {
          "output_type": "stream",
          "name": "stdout",
          "text": [
            "<class 'pandas.core.series.Series'>\n"
          ]
        }
      ]
    },
    {
      "cell_type": "code",
      "source": [
        "ser1"
      ],
      "metadata": {
        "colab": {
          "base_uri": "https://localhost:8080/"
        },
        "id": "lgia8ae3mPQE",
        "outputId": "e93c8a67-0639-43e3-bac2-d51e8c304814"
      },
      "execution_count": null,
      "outputs": [
        {
          "output_type": "execute_result",
          "data": {
            "text/plain": [
              "Ahmadabad         apple\n",
              "Birmingham       banana\n",
              "CAIRO          cherries\n",
              "DAMASCUS          dates\n",
              "Ecatepec      eggfruits\n",
              "Faisalabad          fig\n",
              "dtype: object"
            ]
          },
          "metadata": {},
          "execution_count": 21
        }
      ]
    },
    {
      "cell_type": "code",
      "source": [
        "ser1['Ahmadabad'], ser1['Birmingham'], ser1['CAIRO'], ser1['DAMASCUS'], ser1['Ecatepec'], ser1['Faisalabad']"
      ],
      "metadata": {
        "colab": {
          "base_uri": "https://localhost:8080/"
        },
        "id": "Fu8Kf67Dmhqi",
        "outputId": "116b7295-a20d-4122-9620-53ecd65796a4"
      },
      "execution_count": null,
      "outputs": [
        {
          "output_type": "execute_result",
          "data": {
            "text/plain": [
              "('apple', 'banana', 'cherries', 'dates', 'eggfruits', 'fig')"
            ]
          },
          "metadata": {},
          "execution_count": 24
        }
      ]
    },
    {
      "cell_type": "code",
      "source": [
        "ser1[0], ser1[1], ser1[2], ser1[3], ser1[4], ser1[5]"
      ],
      "metadata": {
        "colab": {
          "base_uri": "https://localhost:8080/"
        },
        "id": "XzA0N4FAmUV8",
        "outputId": "87562378-7778-4065-e3e5-53aff567c007"
      },
      "execution_count": null,
      "outputs": [
        {
          "output_type": "execute_result",
          "data": {
            "text/plain": [
              "('apple', 'banana', 'cherries', 'dates', 'eggfruits', 'fig')"
            ]
          },
          "metadata": {},
          "execution_count": 23
        }
      ]
    },
    {
      "cell_type": "code",
      "source": [
        "ser1['CAIRO':'Faisalabad']"
      ],
      "metadata": {
        "colab": {
          "base_uri": "https://localhost:8080/"
        },
        "id": "vSf31hjsmtjO",
        "outputId": "3d8b4eaa-c643-434f-aab1-58ec4924369a"
      },
      "execution_count": null,
      "outputs": [
        {
          "output_type": "execute_result",
          "data": {
            "text/plain": [
              "CAIRO          cherries\n",
              "DAMASCUS          dates\n",
              "Ecatepec      eggfruits\n",
              "Faisalabad          fig\n",
              "dtype: object"
            ]
          },
          "metadata": {},
          "execution_count": 25
        }
      ]
    },
    {
      "cell_type": "code",
      "source": [
        "ser1.iloc['CAIRO':'Faisalabad']"
      ],
      "metadata": {
        "colab": {
          "base_uri": "https://localhost:8080/",
          "height": 311
        },
        "id": "l-eC9uDym8rq",
        "outputId": "8635eb21-bbc4-42ae-9de9-5aae7f4bcb42"
      },
      "execution_count": null,
      "outputs": [
        {
          "output_type": "error",
          "ename": "TypeError",
          "evalue": "ignored",
          "traceback": [
            "\u001b[0;31m---------------------------------------------------------------------------\u001b[0m",
            "\u001b[0;31mTypeError\u001b[0m                                 Traceback (most recent call last)",
            "\u001b[0;32m<ipython-input-27-456112f2d19e>\u001b[0m in \u001b[0;36m<cell line: 1>\u001b[0;34m()\u001b[0m\n\u001b[0;32m----> 1\u001b[0;31m \u001b[0mser1\u001b[0m\u001b[0;34m.\u001b[0m\u001b[0miloc\u001b[0m\u001b[0;34m[\u001b[0m\u001b[0;34m'CAIRO'\u001b[0m\u001b[0;34m:\u001b[0m\u001b[0;34m'Faisalabad'\u001b[0m\u001b[0;34m]\u001b[0m\u001b[0;34m\u001b[0m\u001b[0;34m\u001b[0m\u001b[0m\n\u001b[0m",
            "\u001b[0;32m/usr/local/lib/python3.10/dist-packages/pandas/core/indexing.py\u001b[0m in \u001b[0;36m__getitem__\u001b[0;34m(self, key)\u001b[0m\n\u001b[1;32m   1071\u001b[0m \u001b[0;34m\u001b[0m\u001b[0m\n\u001b[1;32m   1072\u001b[0m             \u001b[0mmaybe_callable\u001b[0m \u001b[0;34m=\u001b[0m \u001b[0mcom\u001b[0m\u001b[0;34m.\u001b[0m\u001b[0mapply_if_callable\u001b[0m\u001b[0;34m(\u001b[0m\u001b[0mkey\u001b[0m\u001b[0;34m,\u001b[0m \u001b[0mself\u001b[0m\u001b[0;34m.\u001b[0m\u001b[0mobj\u001b[0m\u001b[0;34m)\u001b[0m\u001b[0;34m\u001b[0m\u001b[0;34m\u001b[0m\u001b[0m\n\u001b[0;32m-> 1073\u001b[0;31m             \u001b[0;32mreturn\u001b[0m \u001b[0mself\u001b[0m\u001b[0;34m.\u001b[0m\u001b[0m_getitem_axis\u001b[0m\u001b[0;34m(\u001b[0m\u001b[0mmaybe_callable\u001b[0m\u001b[0;34m,\u001b[0m \u001b[0maxis\u001b[0m\u001b[0;34m=\u001b[0m\u001b[0maxis\u001b[0m\u001b[0;34m)\u001b[0m\u001b[0;34m\u001b[0m\u001b[0;34m\u001b[0m\u001b[0m\n\u001b[0m\u001b[1;32m   1074\u001b[0m \u001b[0;34m\u001b[0m\u001b[0m\n\u001b[1;32m   1075\u001b[0m     \u001b[0;32mdef\u001b[0m \u001b[0m_is_scalar_access\u001b[0m\u001b[0;34m(\u001b[0m\u001b[0mself\u001b[0m\u001b[0;34m,\u001b[0m \u001b[0mkey\u001b[0m\u001b[0;34m:\u001b[0m \u001b[0mtuple\u001b[0m\u001b[0;34m)\u001b[0m\u001b[0;34m:\u001b[0m\u001b[0;34m\u001b[0m\u001b[0;34m\u001b[0m\u001b[0m\n",
            "\u001b[0;32m/usr/local/lib/python3.10/dist-packages/pandas/core/indexing.py\u001b[0m in \u001b[0;36m_getitem_axis\u001b[0;34m(self, key, axis)\u001b[0m\n\u001b[1;32m   1600\u001b[0m \u001b[0;34m\u001b[0m\u001b[0m\n\u001b[1;32m   1601\u001b[0m         \u001b[0;32mif\u001b[0m \u001b[0misinstance\u001b[0m\u001b[0;34m(\u001b[0m\u001b[0mkey\u001b[0m\u001b[0;34m,\u001b[0m \u001b[0mslice\u001b[0m\u001b[0;34m)\u001b[0m\u001b[0;34m:\u001b[0m\u001b[0;34m\u001b[0m\u001b[0;34m\u001b[0m\u001b[0m\n\u001b[0;32m-> 1602\u001b[0;31m             \u001b[0;32mreturn\u001b[0m \u001b[0mself\u001b[0m\u001b[0;34m.\u001b[0m\u001b[0m_get_slice_axis\u001b[0m\u001b[0;34m(\u001b[0m\u001b[0mkey\u001b[0m\u001b[0;34m,\u001b[0m \u001b[0maxis\u001b[0m\u001b[0;34m=\u001b[0m\u001b[0maxis\u001b[0m\u001b[0;34m)\u001b[0m\u001b[0;34m\u001b[0m\u001b[0;34m\u001b[0m\u001b[0m\n\u001b[0m\u001b[1;32m   1603\u001b[0m \u001b[0;34m\u001b[0m\u001b[0m\n\u001b[1;32m   1604\u001b[0m         \u001b[0;32mif\u001b[0m \u001b[0mis_iterator\u001b[0m\u001b[0;34m(\u001b[0m\u001b[0mkey\u001b[0m\u001b[0;34m)\u001b[0m\u001b[0;34m:\u001b[0m\u001b[0;34m\u001b[0m\u001b[0;34m\u001b[0m\u001b[0m\n",
            "\u001b[0;32m/usr/local/lib/python3.10/dist-packages/pandas/core/indexing.py\u001b[0m in \u001b[0;36m_get_slice_axis\u001b[0;34m(self, slice_obj, axis)\u001b[0m\n\u001b[1;32m   1635\u001b[0m \u001b[0;34m\u001b[0m\u001b[0m\n\u001b[1;32m   1636\u001b[0m         \u001b[0mlabels\u001b[0m \u001b[0;34m=\u001b[0m \u001b[0mobj\u001b[0m\u001b[0;34m.\u001b[0m\u001b[0m_get_axis\u001b[0m\u001b[0;34m(\u001b[0m\u001b[0maxis\u001b[0m\u001b[0;34m)\u001b[0m\u001b[0;34m\u001b[0m\u001b[0;34m\u001b[0m\u001b[0m\n\u001b[0;32m-> 1637\u001b[0;31m         \u001b[0mlabels\u001b[0m\u001b[0;34m.\u001b[0m\u001b[0m_validate_positional_slice\u001b[0m\u001b[0;34m(\u001b[0m\u001b[0mslice_obj\u001b[0m\u001b[0;34m)\u001b[0m\u001b[0;34m\u001b[0m\u001b[0;34m\u001b[0m\u001b[0m\n\u001b[0m\u001b[1;32m   1638\u001b[0m         \u001b[0;32mreturn\u001b[0m \u001b[0mself\u001b[0m\u001b[0;34m.\u001b[0m\u001b[0mobj\u001b[0m\u001b[0;34m.\u001b[0m\u001b[0m_slice\u001b[0m\u001b[0;34m(\u001b[0m\u001b[0mslice_obj\u001b[0m\u001b[0;34m,\u001b[0m \u001b[0maxis\u001b[0m\u001b[0;34m=\u001b[0m\u001b[0maxis\u001b[0m\u001b[0;34m)\u001b[0m\u001b[0;34m\u001b[0m\u001b[0;34m\u001b[0m\u001b[0m\n\u001b[1;32m   1639\u001b[0m \u001b[0;34m\u001b[0m\u001b[0m\n",
            "\u001b[0;32m/usr/local/lib/python3.10/dist-packages/pandas/core/indexes/base.py\u001b[0m in \u001b[0;36m_validate_positional_slice\u001b[0;34m(self, key)\u001b[0m\n\u001b[1;32m   4209\u001b[0m         \u001b[0;32mfor\u001b[0m \u001b[0meach\u001b[0m \u001b[0mof\u001b[0m \u001b[0mstart\u001b[0m\u001b[0;34m,\u001b[0m \u001b[0mstop\u001b[0m\u001b[0;34m,\u001b[0m \u001b[0;32mand\u001b[0m \u001b[0mstep\u001b[0m\u001b[0;34m.\u001b[0m\u001b[0;34m\u001b[0m\u001b[0;34m\u001b[0m\u001b[0m\n\u001b[1;32m   4210\u001b[0m         \"\"\"\n\u001b[0;32m-> 4211\u001b[0;31m         \u001b[0mself\u001b[0m\u001b[0;34m.\u001b[0m\u001b[0m_validate_indexer\u001b[0m\u001b[0;34m(\u001b[0m\u001b[0;34m\"positional\"\u001b[0m\u001b[0;34m,\u001b[0m \u001b[0mkey\u001b[0m\u001b[0;34m.\u001b[0m\u001b[0mstart\u001b[0m\u001b[0;34m,\u001b[0m \u001b[0;34m\"iloc\"\u001b[0m\u001b[0;34m)\u001b[0m\u001b[0;34m\u001b[0m\u001b[0;34m\u001b[0m\u001b[0m\n\u001b[0m\u001b[1;32m   4212\u001b[0m         \u001b[0mself\u001b[0m\u001b[0;34m.\u001b[0m\u001b[0m_validate_indexer\u001b[0m\u001b[0;34m(\u001b[0m\u001b[0;34m\"positional\"\u001b[0m\u001b[0;34m,\u001b[0m \u001b[0mkey\u001b[0m\u001b[0;34m.\u001b[0m\u001b[0mstop\u001b[0m\u001b[0;34m,\u001b[0m \u001b[0;34m\"iloc\"\u001b[0m\u001b[0;34m)\u001b[0m\u001b[0;34m\u001b[0m\u001b[0;34m\u001b[0m\u001b[0m\n\u001b[1;32m   4213\u001b[0m         \u001b[0mself\u001b[0m\u001b[0;34m.\u001b[0m\u001b[0m_validate_indexer\u001b[0m\u001b[0;34m(\u001b[0m\u001b[0;34m\"positional\"\u001b[0m\u001b[0;34m,\u001b[0m \u001b[0mkey\u001b[0m\u001b[0;34m.\u001b[0m\u001b[0mstep\u001b[0m\u001b[0;34m,\u001b[0m \u001b[0;34m\"iloc\"\u001b[0m\u001b[0;34m)\u001b[0m\u001b[0;34m\u001b[0m\u001b[0;34m\u001b[0m\u001b[0m\n",
            "\u001b[0;32m/usr/local/lib/python3.10/dist-packages/pandas/core/indexes/base.py\u001b[0m in \u001b[0;36m_validate_indexer\u001b[0;34m(self, form, key, kind)\u001b[0m\n\u001b[1;32m   6589\u001b[0m \u001b[0;34m\u001b[0m\u001b[0m\n\u001b[1;32m   6590\u001b[0m         \u001b[0;32mif\u001b[0m \u001b[0mkey\u001b[0m \u001b[0;32mis\u001b[0m \u001b[0;32mnot\u001b[0m \u001b[0;32mNone\u001b[0m \u001b[0;32mand\u001b[0m \u001b[0;32mnot\u001b[0m \u001b[0mis_integer\u001b[0m\u001b[0;34m(\u001b[0m\u001b[0mkey\u001b[0m\u001b[0;34m)\u001b[0m\u001b[0;34m:\u001b[0m\u001b[0;34m\u001b[0m\u001b[0;34m\u001b[0m\u001b[0m\n\u001b[0;32m-> 6591\u001b[0;31m             \u001b[0;32mraise\u001b[0m \u001b[0mself\u001b[0m\u001b[0;34m.\u001b[0m\u001b[0m_invalid_indexer\u001b[0m\u001b[0;34m(\u001b[0m\u001b[0mform\u001b[0m\u001b[0;34m,\u001b[0m \u001b[0mkey\u001b[0m\u001b[0;34m)\u001b[0m\u001b[0;34m\u001b[0m\u001b[0;34m\u001b[0m\u001b[0m\n\u001b[0m\u001b[1;32m   6592\u001b[0m \u001b[0;34m\u001b[0m\u001b[0m\n\u001b[1;32m   6593\u001b[0m     \u001b[0;32mdef\u001b[0m \u001b[0m_maybe_cast_slice_bound\u001b[0m\u001b[0;34m(\u001b[0m\u001b[0mself\u001b[0m\u001b[0;34m,\u001b[0m \u001b[0mlabel\u001b[0m\u001b[0;34m,\u001b[0m \u001b[0mside\u001b[0m\u001b[0;34m:\u001b[0m \u001b[0mstr_t\u001b[0m\u001b[0;34m,\u001b[0m \u001b[0mkind\u001b[0m\u001b[0;34m=\u001b[0m\u001b[0mno_default\u001b[0m\u001b[0;34m)\u001b[0m\u001b[0;34m:\u001b[0m\u001b[0;34m\u001b[0m\u001b[0;34m\u001b[0m\u001b[0m\n",
            "\u001b[0;31mTypeError\u001b[0m: cannot do positional indexing on Index with these indexers [CAIRO] of type str"
          ]
        }
      ]
    },
    {
      "cell_type": "code",
      "source": [
        "ser1.iloc[2:5]"
      ],
      "metadata": {
        "colab": {
          "base_uri": "https://localhost:8080/"
        },
        "id": "W7LQPxebnSUL",
        "outputId": "fa32128b-6d5c-44b2-95f9-5eef0424d3a6"
      },
      "execution_count": null,
      "outputs": [
        {
          "output_type": "execute_result",
          "data": {
            "text/plain": [
              "CAIRO        cherries\n",
              "DAMASCUS        dates\n",
              "Ecatepec    eggfruits\n",
              "dtype: object"
            ]
          },
          "metadata": {},
          "execution_count": 28
        }
      ]
    },
    {
      "cell_type": "code",
      "source": [
        "ser1"
      ],
      "metadata": {
        "colab": {
          "base_uri": "https://localhost:8080/"
        },
        "id": "K2zqp6Zhn8ty",
        "outputId": "0d590636-8ad6-465f-deae-2fddbad13e62"
      },
      "execution_count": null,
      "outputs": [
        {
          "output_type": "execute_result",
          "data": {
            "text/plain": [
              "Ahmadabad         apple\n",
              "Birmingham       banana\n",
              "CAIRO          cherries\n",
              "DAMASCUS          dates\n",
              "Ecatepec      eggfruits\n",
              "Faisalabad          fig\n",
              "dtype: object"
            ]
          },
          "metadata": {},
          "execution_count": 29
        }
      ]
    },
    {
      "cell_type": "code",
      "source": [
        "ser1[:]"
      ],
      "metadata": {
        "colab": {
          "base_uri": "https://localhost:8080/"
        },
        "id": "ZKJWWfCOn_Cu",
        "outputId": "13c189e9-1bf1-4c62-9df1-0c0fc06bff38"
      },
      "execution_count": null,
      "outputs": [
        {
          "output_type": "execute_result",
          "data": {
            "text/plain": [
              "Ahmadabad         apple\n",
              "Birmingham       banana\n",
              "CAIRO          cherries\n",
              "DAMASCUS          dates\n",
              "Ecatepec      eggfruits\n",
              "Faisalabad          fig\n",
              "dtype: object"
            ]
          },
          "metadata": {},
          "execution_count": 30
        }
      ]
    },
    {
      "cell_type": "code",
      "source": [
        "ser1[::-1]"
      ],
      "metadata": {
        "colab": {
          "base_uri": "https://localhost:8080/"
        },
        "id": "luVvvq7AoCxi",
        "outputId": "72ed3fdd-5b97-4430-923e-f234e8e75f05"
      },
      "execution_count": null,
      "outputs": [
        {
          "output_type": "execute_result",
          "data": {
            "text/plain": [
              "Faisalabad          fig\n",
              "Ecatepec      eggfruits\n",
              "DAMASCUS          dates\n",
              "CAIRO          cherries\n",
              "Birmingham       banana\n",
              "Ahmadabad         apple\n",
              "dtype: object"
            ]
          },
          "metadata": {},
          "execution_count": 31
        }
      ]
    },
    {
      "cell_type": "code",
      "source": [
        "import pandas as pd\n",
        "lst1 = [90,91,82,73,64,55,46,37,28,19]\n",
        "df1 = pd.DataFrame(lst1)\n",
        "print(df1)\n",
        "print(type(df1)) # 'pandas.core.frame.DataFrame'\n",
        "df1.ndim, df1.shape, df1.size"
      ],
      "metadata": {
        "id": "pXXnPs8OpKcj"
      },
      "execution_count": null,
      "outputs": []
    },
    {
      "cell_type": "code",
      "source": [
        "df1[0]"
      ],
      "metadata": {
        "id": "vCFkeHyaqGP6"
      },
      "execution_count": null,
      "outputs": []
    },
    {
      "cell_type": "code",
      "source": [
        "df1[1] = ['a0','b1','c2','d3','e4','f5','g6','h7','i8','j9']\n",
        "df1"
      ],
      "metadata": {
        "id": "qq8JO5qSqVUy"
      },
      "execution_count": null,
      "outputs": []
    },
    {
      "cell_type": "code",
      "source": [
        "df1[2] = ('apple','ball','cat','dog','elephant','fish','grapes','horse','ink pot','jute')\n",
        "df1"
      ],
      "metadata": {
        "colab": {
          "base_uri": "https://localhost:8080/",
          "height": 363
        },
        "id": "bKtAyYeiqylZ",
        "outputId": "83cc5146-0cf2-442b-897d-aabb6c5bf814"
      },
      "execution_count": null,
      "outputs": [
        {
          "output_type": "execute_result",
          "data": {
            "text/plain": [
              "    0   1         2\n",
              "0  90  a0     apple\n",
              "1  91  b1      ball\n",
              "2  82  c2       cat\n",
              "3  73  d3       dog\n",
              "4  64  e4  elephant\n",
              "5  55  f5      fish\n",
              "6  46  g6    grapes\n",
              "7  37  h7     horse\n",
              "8  28  i8   ink pot\n",
              "9  19  j9      jute"
            ],
            "text/html": [
              "\n",
              "  <div id=\"df-5ca0bf89-db10-45bb-be29-3aade1be8ece\">\n",
              "    <div class=\"colab-df-container\">\n",
              "      <div>\n",
              "<style scoped>\n",
              "    .dataframe tbody tr th:only-of-type {\n",
              "        vertical-align: middle;\n",
              "    }\n",
              "\n",
              "    .dataframe tbody tr th {\n",
              "        vertical-align: top;\n",
              "    }\n",
              "\n",
              "    .dataframe thead th {\n",
              "        text-align: right;\n",
              "    }\n",
              "</style>\n",
              "<table border=\"1\" class=\"dataframe\">\n",
              "  <thead>\n",
              "    <tr style=\"text-align: right;\">\n",
              "      <th></th>\n",
              "      <th>0</th>\n",
              "      <th>1</th>\n",
              "      <th>2</th>\n",
              "    </tr>\n",
              "  </thead>\n",
              "  <tbody>\n",
              "    <tr>\n",
              "      <th>0</th>\n",
              "      <td>90</td>\n",
              "      <td>a0</td>\n",
              "      <td>apple</td>\n",
              "    </tr>\n",
              "    <tr>\n",
              "      <th>1</th>\n",
              "      <td>91</td>\n",
              "      <td>b1</td>\n",
              "      <td>ball</td>\n",
              "    </tr>\n",
              "    <tr>\n",
              "      <th>2</th>\n",
              "      <td>82</td>\n",
              "      <td>c2</td>\n",
              "      <td>cat</td>\n",
              "    </tr>\n",
              "    <tr>\n",
              "      <th>3</th>\n",
              "      <td>73</td>\n",
              "      <td>d3</td>\n",
              "      <td>dog</td>\n",
              "    </tr>\n",
              "    <tr>\n",
              "      <th>4</th>\n",
              "      <td>64</td>\n",
              "      <td>e4</td>\n",
              "      <td>elephant</td>\n",
              "    </tr>\n",
              "    <tr>\n",
              "      <th>5</th>\n",
              "      <td>55</td>\n",
              "      <td>f5</td>\n",
              "      <td>fish</td>\n",
              "    </tr>\n",
              "    <tr>\n",
              "      <th>6</th>\n",
              "      <td>46</td>\n",
              "      <td>g6</td>\n",
              "      <td>grapes</td>\n",
              "    </tr>\n",
              "    <tr>\n",
              "      <th>7</th>\n",
              "      <td>37</td>\n",
              "      <td>h7</td>\n",
              "      <td>horse</td>\n",
              "    </tr>\n",
              "    <tr>\n",
              "      <th>8</th>\n",
              "      <td>28</td>\n",
              "      <td>i8</td>\n",
              "      <td>ink pot</td>\n",
              "    </tr>\n",
              "    <tr>\n",
              "      <th>9</th>\n",
              "      <td>19</td>\n",
              "      <td>j9</td>\n",
              "      <td>jute</td>\n",
              "    </tr>\n",
              "  </tbody>\n",
              "</table>\n",
              "</div>\n",
              "      <button class=\"colab-df-convert\" onclick=\"convertToInteractive('df-5ca0bf89-db10-45bb-be29-3aade1be8ece')\"\n",
              "              title=\"Convert this dataframe to an interactive table.\"\n",
              "              style=\"display:none;\">\n",
              "        \n",
              "  <svg xmlns=\"http://www.w3.org/2000/svg\" height=\"24px\"viewBox=\"0 0 24 24\"\n",
              "       width=\"24px\">\n",
              "    <path d=\"M0 0h24v24H0V0z\" fill=\"none\"/>\n",
              "    <path d=\"M18.56 5.44l.94 2.06.94-2.06 2.06-.94-2.06-.94-.94-2.06-.94 2.06-2.06.94zm-11 1L8.5 8.5l.94-2.06 2.06-.94-2.06-.94L8.5 2.5l-.94 2.06-2.06.94zm10 10l.94 2.06.94-2.06 2.06-.94-2.06-.94-.94-2.06-.94 2.06-2.06.94z\"/><path d=\"M17.41 7.96l-1.37-1.37c-.4-.4-.92-.59-1.43-.59-.52 0-1.04.2-1.43.59L10.3 9.45l-7.72 7.72c-.78.78-.78 2.05 0 2.83L4 21.41c.39.39.9.59 1.41.59.51 0 1.02-.2 1.41-.59l7.78-7.78 2.81-2.81c.8-.78.8-2.07 0-2.86zM5.41 20L4 18.59l7.72-7.72 1.47 1.35L5.41 20z\"/>\n",
              "  </svg>\n",
              "      </button>\n",
              "      \n",
              "  <style>\n",
              "    .colab-df-container {\n",
              "      display:flex;\n",
              "      flex-wrap:wrap;\n",
              "      gap: 12px;\n",
              "    }\n",
              "\n",
              "    .colab-df-convert {\n",
              "      background-color: #E8F0FE;\n",
              "      border: none;\n",
              "      border-radius: 50%;\n",
              "      cursor: pointer;\n",
              "      display: none;\n",
              "      fill: #1967D2;\n",
              "      height: 32px;\n",
              "      padding: 0 0 0 0;\n",
              "      width: 32px;\n",
              "    }\n",
              "\n",
              "    .colab-df-convert:hover {\n",
              "      background-color: #E2EBFA;\n",
              "      box-shadow: 0px 1px 2px rgba(60, 64, 67, 0.3), 0px 1px 3px 1px rgba(60, 64, 67, 0.15);\n",
              "      fill: #174EA6;\n",
              "    }\n",
              "\n",
              "    [theme=dark] .colab-df-convert {\n",
              "      background-color: #3B4455;\n",
              "      fill: #D2E3FC;\n",
              "    }\n",
              "\n",
              "    [theme=dark] .colab-df-convert:hover {\n",
              "      background-color: #434B5C;\n",
              "      box-shadow: 0px 1px 3px 1px rgba(0, 0, 0, 0.15);\n",
              "      filter: drop-shadow(0px 1px 2px rgba(0, 0, 0, 0.3));\n",
              "      fill: #FFFFFF;\n",
              "    }\n",
              "  </style>\n",
              "\n",
              "      <script>\n",
              "        const buttonEl =\n",
              "          document.querySelector('#df-5ca0bf89-db10-45bb-be29-3aade1be8ece button.colab-df-convert');\n",
              "        buttonEl.style.display =\n",
              "          google.colab.kernel.accessAllowed ? 'block' : 'none';\n",
              "\n",
              "        async function convertToInteractive(key) {\n",
              "          const element = document.querySelector('#df-5ca0bf89-db10-45bb-be29-3aade1be8ece');\n",
              "          const dataTable =\n",
              "            await google.colab.kernel.invokeFunction('convertToInteractive',\n",
              "                                                     [key], {});\n",
              "          if (!dataTable) return;\n",
              "\n",
              "          const docLinkHtml = 'Like what you see? Visit the ' +\n",
              "            '<a target=\"_blank\" href=https://colab.research.google.com/notebooks/data_table.ipynb>data table notebook</a>'\n",
              "            + ' to learn more about interactive tables.';\n",
              "          element.innerHTML = '';\n",
              "          dataTable['output_type'] = 'display_data';\n",
              "          await google.colab.output.renderOutput(dataTable, element);\n",
              "          const docLink = document.createElement('div');\n",
              "          docLink.innerHTML = docLinkHtml;\n",
              "          element.appendChild(docLink);\n",
              "        }\n",
              "      </script>\n",
              "    </div>\n",
              "  </div>\n",
              "  "
            ]
          },
          "metadata": {},
          "execution_count": 41
        }
      ]
    },
    {
      "cell_type": "code",
      "source": [
        "df1.columns = ['col1','col2','col3']\n",
        "df1"
      ],
      "metadata": {
        "id": "5cn5i95dsChO"
      },
      "execution_count": null,
      "outputs": []
    },
    {
      "cell_type": "code",
      "source": [
        "df1.index = ['row1','row2','row3','row4','row5','row6','row7','row8','row9','row10']\n",
        "df1"
      ],
      "metadata": {
        "colab": {
          "base_uri": "https://localhost:8080/",
          "height": 363
        },
        "id": "urcdq1QhsNuc",
        "outputId": "87b52ac8-ceae-49df-b9c4-0e78d32145d2"
      },
      "execution_count": null,
      "outputs": [
        {
          "output_type": "execute_result",
          "data": {
            "text/plain": [
              "       col1 col2      col3\n",
              "row1     90   a0     apple\n",
              "row2     91   b1      ball\n",
              "row3     82   c2       cat\n",
              "row4     73   d3       dog\n",
              "row5     64   e4  elephant\n",
              "row6     55   f5      fish\n",
              "row7     46   g6    grapes\n",
              "row8     37   h7     horse\n",
              "row9     28   i8   ink pot\n",
              "row10    19   j9      jute"
            ],
            "text/html": [
              "\n",
              "  <div id=\"df-93f7a1d1-5b59-419c-853d-7afcede4907e\">\n",
              "    <div class=\"colab-df-container\">\n",
              "      <div>\n",
              "<style scoped>\n",
              "    .dataframe tbody tr th:only-of-type {\n",
              "        vertical-align: middle;\n",
              "    }\n",
              "\n",
              "    .dataframe tbody tr th {\n",
              "        vertical-align: top;\n",
              "    }\n",
              "\n",
              "    .dataframe thead th {\n",
              "        text-align: right;\n",
              "    }\n",
              "</style>\n",
              "<table border=\"1\" class=\"dataframe\">\n",
              "  <thead>\n",
              "    <tr style=\"text-align: right;\">\n",
              "      <th></th>\n",
              "      <th>col1</th>\n",
              "      <th>col2</th>\n",
              "      <th>col3</th>\n",
              "    </tr>\n",
              "  </thead>\n",
              "  <tbody>\n",
              "    <tr>\n",
              "      <th>row1</th>\n",
              "      <td>90</td>\n",
              "      <td>a0</td>\n",
              "      <td>apple</td>\n",
              "    </tr>\n",
              "    <tr>\n",
              "      <th>row2</th>\n",
              "      <td>91</td>\n",
              "      <td>b1</td>\n",
              "      <td>ball</td>\n",
              "    </tr>\n",
              "    <tr>\n",
              "      <th>row3</th>\n",
              "      <td>82</td>\n",
              "      <td>c2</td>\n",
              "      <td>cat</td>\n",
              "    </tr>\n",
              "    <tr>\n",
              "      <th>row4</th>\n",
              "      <td>73</td>\n",
              "      <td>d3</td>\n",
              "      <td>dog</td>\n",
              "    </tr>\n",
              "    <tr>\n",
              "      <th>row5</th>\n",
              "      <td>64</td>\n",
              "      <td>e4</td>\n",
              "      <td>elephant</td>\n",
              "    </tr>\n",
              "    <tr>\n",
              "      <th>row6</th>\n",
              "      <td>55</td>\n",
              "      <td>f5</td>\n",
              "      <td>fish</td>\n",
              "    </tr>\n",
              "    <tr>\n",
              "      <th>row7</th>\n",
              "      <td>46</td>\n",
              "      <td>g6</td>\n",
              "      <td>grapes</td>\n",
              "    </tr>\n",
              "    <tr>\n",
              "      <th>row8</th>\n",
              "      <td>37</td>\n",
              "      <td>h7</td>\n",
              "      <td>horse</td>\n",
              "    </tr>\n",
              "    <tr>\n",
              "      <th>row9</th>\n",
              "      <td>28</td>\n",
              "      <td>i8</td>\n",
              "      <td>ink pot</td>\n",
              "    </tr>\n",
              "    <tr>\n",
              "      <th>row10</th>\n",
              "      <td>19</td>\n",
              "      <td>j9</td>\n",
              "      <td>jute</td>\n",
              "    </tr>\n",
              "  </tbody>\n",
              "</table>\n",
              "</div>\n",
              "      <button class=\"colab-df-convert\" onclick=\"convertToInteractive('df-93f7a1d1-5b59-419c-853d-7afcede4907e')\"\n",
              "              title=\"Convert this dataframe to an interactive table.\"\n",
              "              style=\"display:none;\">\n",
              "        \n",
              "  <svg xmlns=\"http://www.w3.org/2000/svg\" height=\"24px\"viewBox=\"0 0 24 24\"\n",
              "       width=\"24px\">\n",
              "    <path d=\"M0 0h24v24H0V0z\" fill=\"none\"/>\n",
              "    <path d=\"M18.56 5.44l.94 2.06.94-2.06 2.06-.94-2.06-.94-.94-2.06-.94 2.06-2.06.94zm-11 1L8.5 8.5l.94-2.06 2.06-.94-2.06-.94L8.5 2.5l-.94 2.06-2.06.94zm10 10l.94 2.06.94-2.06 2.06-.94-2.06-.94-.94-2.06-.94 2.06-2.06.94z\"/><path d=\"M17.41 7.96l-1.37-1.37c-.4-.4-.92-.59-1.43-.59-.52 0-1.04.2-1.43.59L10.3 9.45l-7.72 7.72c-.78.78-.78 2.05 0 2.83L4 21.41c.39.39.9.59 1.41.59.51 0 1.02-.2 1.41-.59l7.78-7.78 2.81-2.81c.8-.78.8-2.07 0-2.86zM5.41 20L4 18.59l7.72-7.72 1.47 1.35L5.41 20z\"/>\n",
              "  </svg>\n",
              "      </button>\n",
              "      \n",
              "  <style>\n",
              "    .colab-df-container {\n",
              "      display:flex;\n",
              "      flex-wrap:wrap;\n",
              "      gap: 12px;\n",
              "    }\n",
              "\n",
              "    .colab-df-convert {\n",
              "      background-color: #E8F0FE;\n",
              "      border: none;\n",
              "      border-radius: 50%;\n",
              "      cursor: pointer;\n",
              "      display: none;\n",
              "      fill: #1967D2;\n",
              "      height: 32px;\n",
              "      padding: 0 0 0 0;\n",
              "      width: 32px;\n",
              "    }\n",
              "\n",
              "    .colab-df-convert:hover {\n",
              "      background-color: #E2EBFA;\n",
              "      box-shadow: 0px 1px 2px rgba(60, 64, 67, 0.3), 0px 1px 3px 1px rgba(60, 64, 67, 0.15);\n",
              "      fill: #174EA6;\n",
              "    }\n",
              "\n",
              "    [theme=dark] .colab-df-convert {\n",
              "      background-color: #3B4455;\n",
              "      fill: #D2E3FC;\n",
              "    }\n",
              "\n",
              "    [theme=dark] .colab-df-convert:hover {\n",
              "      background-color: #434B5C;\n",
              "      box-shadow: 0px 1px 3px 1px rgba(0, 0, 0, 0.15);\n",
              "      filter: drop-shadow(0px 1px 2px rgba(0, 0, 0, 0.3));\n",
              "      fill: #FFFFFF;\n",
              "    }\n",
              "  </style>\n",
              "\n",
              "      <script>\n",
              "        const buttonEl =\n",
              "          document.querySelector('#df-93f7a1d1-5b59-419c-853d-7afcede4907e button.colab-df-convert');\n",
              "        buttonEl.style.display =\n",
              "          google.colab.kernel.accessAllowed ? 'block' : 'none';\n",
              "\n",
              "        async function convertToInteractive(key) {\n",
              "          const element = document.querySelector('#df-93f7a1d1-5b59-419c-853d-7afcede4907e');\n",
              "          const dataTable =\n",
              "            await google.colab.kernel.invokeFunction('convertToInteractive',\n",
              "                                                     [key], {});\n",
              "          if (!dataTable) return;\n",
              "\n",
              "          const docLinkHtml = 'Like what you see? Visit the ' +\n",
              "            '<a target=\"_blank\" href=https://colab.research.google.com/notebooks/data_table.ipynb>data table notebook</a>'\n",
              "            + ' to learn more about interactive tables.';\n",
              "          element.innerHTML = '';\n",
              "          dataTable['output_type'] = 'display_data';\n",
              "          await google.colab.output.renderOutput(dataTable, element);\n",
              "          const docLink = document.createElement('div');\n",
              "          docLink.innerHTML = docLinkHtml;\n",
              "          element.appendChild(docLink);\n",
              "        }\n",
              "      </script>\n",
              "    </div>\n",
              "  </div>\n",
              "  "
            ]
          },
          "metadata": {},
          "execution_count": 45
        }
      ]
    },
    {
      "cell_type": "code",
      "source": [
        "set1 = {1,1,1,2,2,2,3,3,3,4,4,4,5,5,5,6,6,6,7,7,7,8,8,8,9,9,9}\n",
        "df2 = pd.DataFrame(set1)\n",
        "df2"
      ],
      "metadata": {
        "colab": {
          "base_uri": "https://localhost:8080/",
          "height": 331
        },
        "id": "mGI1nI7esrWb",
        "outputId": "07584fa8-5ac2-4645-e23f-3148ea755d4a"
      },
      "execution_count": null,
      "outputs": [
        {
          "output_type": "execute_result",
          "data": {
            "text/plain": [
              "   0\n",
              "0  1\n",
              "1  2\n",
              "2  3\n",
              "3  4\n",
              "4  5\n",
              "5  6\n",
              "6  7\n",
              "7  8\n",
              "8  9"
            ],
            "text/html": [
              "\n",
              "  <div id=\"df-ebdf8a88-f15e-45e0-9710-0750fcd49d56\">\n",
              "    <div class=\"colab-df-container\">\n",
              "      <div>\n",
              "<style scoped>\n",
              "    .dataframe tbody tr th:only-of-type {\n",
              "        vertical-align: middle;\n",
              "    }\n",
              "\n",
              "    .dataframe tbody tr th {\n",
              "        vertical-align: top;\n",
              "    }\n",
              "\n",
              "    .dataframe thead th {\n",
              "        text-align: right;\n",
              "    }\n",
              "</style>\n",
              "<table border=\"1\" class=\"dataframe\">\n",
              "  <thead>\n",
              "    <tr style=\"text-align: right;\">\n",
              "      <th></th>\n",
              "      <th>0</th>\n",
              "    </tr>\n",
              "  </thead>\n",
              "  <tbody>\n",
              "    <tr>\n",
              "      <th>0</th>\n",
              "      <td>1</td>\n",
              "    </tr>\n",
              "    <tr>\n",
              "      <th>1</th>\n",
              "      <td>2</td>\n",
              "    </tr>\n",
              "    <tr>\n",
              "      <th>2</th>\n",
              "      <td>3</td>\n",
              "    </tr>\n",
              "    <tr>\n",
              "      <th>3</th>\n",
              "      <td>4</td>\n",
              "    </tr>\n",
              "    <tr>\n",
              "      <th>4</th>\n",
              "      <td>5</td>\n",
              "    </tr>\n",
              "    <tr>\n",
              "      <th>5</th>\n",
              "      <td>6</td>\n",
              "    </tr>\n",
              "    <tr>\n",
              "      <th>6</th>\n",
              "      <td>7</td>\n",
              "    </tr>\n",
              "    <tr>\n",
              "      <th>7</th>\n",
              "      <td>8</td>\n",
              "    </tr>\n",
              "    <tr>\n",
              "      <th>8</th>\n",
              "      <td>9</td>\n",
              "    </tr>\n",
              "  </tbody>\n",
              "</table>\n",
              "</div>\n",
              "      <button class=\"colab-df-convert\" onclick=\"convertToInteractive('df-ebdf8a88-f15e-45e0-9710-0750fcd49d56')\"\n",
              "              title=\"Convert this dataframe to an interactive table.\"\n",
              "              style=\"display:none;\">\n",
              "        \n",
              "  <svg xmlns=\"http://www.w3.org/2000/svg\" height=\"24px\"viewBox=\"0 0 24 24\"\n",
              "       width=\"24px\">\n",
              "    <path d=\"M0 0h24v24H0V0z\" fill=\"none\"/>\n",
              "    <path d=\"M18.56 5.44l.94 2.06.94-2.06 2.06-.94-2.06-.94-.94-2.06-.94 2.06-2.06.94zm-11 1L8.5 8.5l.94-2.06 2.06-.94-2.06-.94L8.5 2.5l-.94 2.06-2.06.94zm10 10l.94 2.06.94-2.06 2.06-.94-2.06-.94-.94-2.06-.94 2.06-2.06.94z\"/><path d=\"M17.41 7.96l-1.37-1.37c-.4-.4-.92-.59-1.43-.59-.52 0-1.04.2-1.43.59L10.3 9.45l-7.72 7.72c-.78.78-.78 2.05 0 2.83L4 21.41c.39.39.9.59 1.41.59.51 0 1.02-.2 1.41-.59l7.78-7.78 2.81-2.81c.8-.78.8-2.07 0-2.86zM5.41 20L4 18.59l7.72-7.72 1.47 1.35L5.41 20z\"/>\n",
              "  </svg>\n",
              "      </button>\n",
              "      \n",
              "  <style>\n",
              "    .colab-df-container {\n",
              "      display:flex;\n",
              "      flex-wrap:wrap;\n",
              "      gap: 12px;\n",
              "    }\n",
              "\n",
              "    .colab-df-convert {\n",
              "      background-color: #E8F0FE;\n",
              "      border: none;\n",
              "      border-radius: 50%;\n",
              "      cursor: pointer;\n",
              "      display: none;\n",
              "      fill: #1967D2;\n",
              "      height: 32px;\n",
              "      padding: 0 0 0 0;\n",
              "      width: 32px;\n",
              "    }\n",
              "\n",
              "    .colab-df-convert:hover {\n",
              "      background-color: #E2EBFA;\n",
              "      box-shadow: 0px 1px 2px rgba(60, 64, 67, 0.3), 0px 1px 3px 1px rgba(60, 64, 67, 0.15);\n",
              "      fill: #174EA6;\n",
              "    }\n",
              "\n",
              "    [theme=dark] .colab-df-convert {\n",
              "      background-color: #3B4455;\n",
              "      fill: #D2E3FC;\n",
              "    }\n",
              "\n",
              "    [theme=dark] .colab-df-convert:hover {\n",
              "      background-color: #434B5C;\n",
              "      box-shadow: 0px 1px 3px 1px rgba(0, 0, 0, 0.15);\n",
              "      filter: drop-shadow(0px 1px 2px rgba(0, 0, 0, 0.3));\n",
              "      fill: #FFFFFF;\n",
              "    }\n",
              "  </style>\n",
              "\n",
              "      <script>\n",
              "        const buttonEl =\n",
              "          document.querySelector('#df-ebdf8a88-f15e-45e0-9710-0750fcd49d56 button.colab-df-convert');\n",
              "        buttonEl.style.display =\n",
              "          google.colab.kernel.accessAllowed ? 'block' : 'none';\n",
              "\n",
              "        async function convertToInteractive(key) {\n",
              "          const element = document.querySelector('#df-ebdf8a88-f15e-45e0-9710-0750fcd49d56');\n",
              "          const dataTable =\n",
              "            await google.colab.kernel.invokeFunction('convertToInteractive',\n",
              "                                                     [key], {});\n",
              "          if (!dataTable) return;\n",
              "\n",
              "          const docLinkHtml = 'Like what you see? Visit the ' +\n",
              "            '<a target=\"_blank\" href=https://colab.research.google.com/notebooks/data_table.ipynb>data table notebook</a>'\n",
              "            + ' to learn more about interactive tables.';\n",
              "          element.innerHTML = '';\n",
              "          dataTable['output_type'] = 'display_data';\n",
              "          await google.colab.output.renderOutput(dataTable, element);\n",
              "          const docLink = document.createElement('div');\n",
              "          docLink.innerHTML = docLinkHtml;\n",
              "          element.appendChild(docLink);\n",
              "        }\n",
              "      </script>\n",
              "    </div>\n",
              "  </div>\n",
              "  "
            ]
          },
          "metadata": {},
          "execution_count": 46
        }
      ]
    },
    {
      "cell_type": "code",
      "source": [
        "dict1 = {'alphabate a': [1,2,3,4,5,6,7,8,9,10],\n",
        "         'alphabate b': (21,22,23,24,25,26,27,28,29,30),\n",
        "         'alphabate c': [51,52,53,54,55,56,57,58,59,60],\n",
        "         'alphabate d': (61,62,63,64,65,66,67,68,69,70),\n",
        "         'alphabate e': [91,92,93,94,95,96,97,98,99,100]\n",
        "         }\n",
        "df3 = pd.DataFrame(dict1)\n",
        "df3"
      ],
      "metadata": {
        "colab": {
          "base_uri": "https://localhost:8080/",
          "height": 363
        },
        "id": "nfrzKhPctIST",
        "outputId": "9764e159-f8c6-4354-da28-171f720d4e17"
      },
      "execution_count": null,
      "outputs": [
        {
          "output_type": "execute_result",
          "data": {
            "text/plain": [
              "   alphabate a  alphabate b  alphabate c  alphabate d  alphabate e\n",
              "0            1           21           51           61           91\n",
              "1            2           22           52           62           92\n",
              "2            3           23           53           63           93\n",
              "3            4           24           54           64           94\n",
              "4            5           25           55           65           95\n",
              "5            6           26           56           66           96\n",
              "6            7           27           57           67           97\n",
              "7            8           28           58           68           98\n",
              "8            9           29           59           69           99\n",
              "9           10           30           60           70          100"
            ],
            "text/html": [
              "\n",
              "  <div id=\"df-300b1ce5-4cd3-4510-a412-4c7a05c5ee0f\">\n",
              "    <div class=\"colab-df-container\">\n",
              "      <div>\n",
              "<style scoped>\n",
              "    .dataframe tbody tr th:only-of-type {\n",
              "        vertical-align: middle;\n",
              "    }\n",
              "\n",
              "    .dataframe tbody tr th {\n",
              "        vertical-align: top;\n",
              "    }\n",
              "\n",
              "    .dataframe thead th {\n",
              "        text-align: right;\n",
              "    }\n",
              "</style>\n",
              "<table border=\"1\" class=\"dataframe\">\n",
              "  <thead>\n",
              "    <tr style=\"text-align: right;\">\n",
              "      <th></th>\n",
              "      <th>alphabate a</th>\n",
              "      <th>alphabate b</th>\n",
              "      <th>alphabate c</th>\n",
              "      <th>alphabate d</th>\n",
              "      <th>alphabate e</th>\n",
              "    </tr>\n",
              "  </thead>\n",
              "  <tbody>\n",
              "    <tr>\n",
              "      <th>0</th>\n",
              "      <td>1</td>\n",
              "      <td>21</td>\n",
              "      <td>51</td>\n",
              "      <td>61</td>\n",
              "      <td>91</td>\n",
              "    </tr>\n",
              "    <tr>\n",
              "      <th>1</th>\n",
              "      <td>2</td>\n",
              "      <td>22</td>\n",
              "      <td>52</td>\n",
              "      <td>62</td>\n",
              "      <td>92</td>\n",
              "    </tr>\n",
              "    <tr>\n",
              "      <th>2</th>\n",
              "      <td>3</td>\n",
              "      <td>23</td>\n",
              "      <td>53</td>\n",
              "      <td>63</td>\n",
              "      <td>93</td>\n",
              "    </tr>\n",
              "    <tr>\n",
              "      <th>3</th>\n",
              "      <td>4</td>\n",
              "      <td>24</td>\n",
              "      <td>54</td>\n",
              "      <td>64</td>\n",
              "      <td>94</td>\n",
              "    </tr>\n",
              "    <tr>\n",
              "      <th>4</th>\n",
              "      <td>5</td>\n",
              "      <td>25</td>\n",
              "      <td>55</td>\n",
              "      <td>65</td>\n",
              "      <td>95</td>\n",
              "    </tr>\n",
              "    <tr>\n",
              "      <th>5</th>\n",
              "      <td>6</td>\n",
              "      <td>26</td>\n",
              "      <td>56</td>\n",
              "      <td>66</td>\n",
              "      <td>96</td>\n",
              "    </tr>\n",
              "    <tr>\n",
              "      <th>6</th>\n",
              "      <td>7</td>\n",
              "      <td>27</td>\n",
              "      <td>57</td>\n",
              "      <td>67</td>\n",
              "      <td>97</td>\n",
              "    </tr>\n",
              "    <tr>\n",
              "      <th>7</th>\n",
              "      <td>8</td>\n",
              "      <td>28</td>\n",
              "      <td>58</td>\n",
              "      <td>68</td>\n",
              "      <td>98</td>\n",
              "    </tr>\n",
              "    <tr>\n",
              "      <th>8</th>\n",
              "      <td>9</td>\n",
              "      <td>29</td>\n",
              "      <td>59</td>\n",
              "      <td>69</td>\n",
              "      <td>99</td>\n",
              "    </tr>\n",
              "    <tr>\n",
              "      <th>9</th>\n",
              "      <td>10</td>\n",
              "      <td>30</td>\n",
              "      <td>60</td>\n",
              "      <td>70</td>\n",
              "      <td>100</td>\n",
              "    </tr>\n",
              "  </tbody>\n",
              "</table>\n",
              "</div>\n",
              "      <button class=\"colab-df-convert\" onclick=\"convertToInteractive('df-300b1ce5-4cd3-4510-a412-4c7a05c5ee0f')\"\n",
              "              title=\"Convert this dataframe to an interactive table.\"\n",
              "              style=\"display:none;\">\n",
              "        \n",
              "  <svg xmlns=\"http://www.w3.org/2000/svg\" height=\"24px\"viewBox=\"0 0 24 24\"\n",
              "       width=\"24px\">\n",
              "    <path d=\"M0 0h24v24H0V0z\" fill=\"none\"/>\n",
              "    <path d=\"M18.56 5.44l.94 2.06.94-2.06 2.06-.94-2.06-.94-.94-2.06-.94 2.06-2.06.94zm-11 1L8.5 8.5l.94-2.06 2.06-.94-2.06-.94L8.5 2.5l-.94 2.06-2.06.94zm10 10l.94 2.06.94-2.06 2.06-.94-2.06-.94-.94-2.06-.94 2.06-2.06.94z\"/><path d=\"M17.41 7.96l-1.37-1.37c-.4-.4-.92-.59-1.43-.59-.52 0-1.04.2-1.43.59L10.3 9.45l-7.72 7.72c-.78.78-.78 2.05 0 2.83L4 21.41c.39.39.9.59 1.41.59.51 0 1.02-.2 1.41-.59l7.78-7.78 2.81-2.81c.8-.78.8-2.07 0-2.86zM5.41 20L4 18.59l7.72-7.72 1.47 1.35L5.41 20z\"/>\n",
              "  </svg>\n",
              "      </button>\n",
              "      \n",
              "  <style>\n",
              "    .colab-df-container {\n",
              "      display:flex;\n",
              "      flex-wrap:wrap;\n",
              "      gap: 12px;\n",
              "    }\n",
              "\n",
              "    .colab-df-convert {\n",
              "      background-color: #E8F0FE;\n",
              "      border: none;\n",
              "      border-radius: 50%;\n",
              "      cursor: pointer;\n",
              "      display: none;\n",
              "      fill: #1967D2;\n",
              "      height: 32px;\n",
              "      padding: 0 0 0 0;\n",
              "      width: 32px;\n",
              "    }\n",
              "\n",
              "    .colab-df-convert:hover {\n",
              "      background-color: #E2EBFA;\n",
              "      box-shadow: 0px 1px 2px rgba(60, 64, 67, 0.3), 0px 1px 3px 1px rgba(60, 64, 67, 0.15);\n",
              "      fill: #174EA6;\n",
              "    }\n",
              "\n",
              "    [theme=dark] .colab-df-convert {\n",
              "      background-color: #3B4455;\n",
              "      fill: #D2E3FC;\n",
              "    }\n",
              "\n",
              "    [theme=dark] .colab-df-convert:hover {\n",
              "      background-color: #434B5C;\n",
              "      box-shadow: 0px 1px 3px 1px rgba(0, 0, 0, 0.15);\n",
              "      filter: drop-shadow(0px 1px 2px rgba(0, 0, 0, 0.3));\n",
              "      fill: #FFFFFF;\n",
              "    }\n",
              "  </style>\n",
              "\n",
              "      <script>\n",
              "        const buttonEl =\n",
              "          document.querySelector('#df-300b1ce5-4cd3-4510-a412-4c7a05c5ee0f button.colab-df-convert');\n",
              "        buttonEl.style.display =\n",
              "          google.colab.kernel.accessAllowed ? 'block' : 'none';\n",
              "\n",
              "        async function convertToInteractive(key) {\n",
              "          const element = document.querySelector('#df-300b1ce5-4cd3-4510-a412-4c7a05c5ee0f');\n",
              "          const dataTable =\n",
              "            await google.colab.kernel.invokeFunction('convertToInteractive',\n",
              "                                                     [key], {});\n",
              "          if (!dataTable) return;\n",
              "\n",
              "          const docLinkHtml = 'Like what you see? Visit the ' +\n",
              "            '<a target=\"_blank\" href=https://colab.research.google.com/notebooks/data_table.ipynb>data table notebook</a>'\n",
              "            + ' to learn more about interactive tables.';\n",
              "          element.innerHTML = '';\n",
              "          dataTable['output_type'] = 'display_data';\n",
              "          await google.colab.output.renderOutput(dataTable, element);\n",
              "          const docLink = document.createElement('div');\n",
              "          docLink.innerHTML = docLinkHtml;\n",
              "          element.appendChild(docLink);\n",
              "        }\n",
              "      </script>\n",
              "    </div>\n",
              "  </div>\n",
              "  "
            ]
          },
          "metadata": {},
          "execution_count": 49
        }
      ]
    },
    {
      "cell_type": "code",
      "source": [
        "import pandas as pd\n",
        "data = [\n",
        "\t{'a': 1, 'b': 2},\n",
        "\t{'a': 5, 'b': 10, 'c': 20},\n",
        "\t{'a': 35, 'b': 40, 'c': 50, 'd': 66},\n",
        "\t{'a': 3, 'b': 4, 'c': 5, 'd': 6, 'e':7},\n",
        "\t{'a': 13, 'b': 24, 'c': 35, 'd': 46, 'e':57, 'f':66}\n",
        "\t]\n",
        "df_1 = pd.DataFrame(data)\n",
        "#df_2 = pd.DataFrame(data, index=['row1'], columns=['col1'])\n",
        "#df_3 = pd.DataFrame(data, index=['row1','row2'], columns=['col1','col2'])\n",
        "#df_4 = pd.DataFrame(data, index=['row1','row2','row3'], columns=['col1','col2','col3'])\n",
        "#df_5 = pd.DataFrame(data, index=['row1','row2','row3','row4'], columns=['col1','col2','col3','col4'])\n",
        "#df_6 = pd.DataFrame(data, index=['row1','row2','row3','row4','row5'], columns=['col1','col2','col3','col4','col5'])\n",
        "df_7 = pd.DataFrame(data, index=['row1','row2','row3','row4','row5'], columns=['col1','col2','col3','col4','col5','col6'])\n",
        "#df_8 = pd.DataFrame(data, index=['row1','row2','row3','row4','row5','row6','row7'], columns=['col1','col2','col3','col4','col5','col6','col7'])\n",
        "#df_9 = pd.DataFrame(data, index=['row1','row2','row3','row4','row5','row6','row7','row8'], columns=['col1','col2','col3','col4','col5','col6','col7','col8'])\n",
        "print(df_1)\n",
        "print(df_7)"
      ],
      "metadata": {
        "colab": {
          "base_uri": "https://localhost:8080/"
        },
        "id": "ssYi_kK-wS_A",
        "outputId": "ca5e7b6e-8d42-4704-ac54-011259d8815d"
      },
      "execution_count": null,
      "outputs": [
        {
          "output_type": "stream",
          "name": "stdout",
          "text": [
            "    a   b     c     d     e     f\n",
            "0   1   2   NaN   NaN   NaN   NaN\n",
            "1   5  10  20.0   NaN   NaN   NaN\n",
            "2  35  40  50.0  66.0   NaN   NaN\n",
            "3   3   4   5.0   6.0   7.0   NaN\n",
            "4  13  24  35.0  46.0  57.0  66.0\n",
            "      col1  col2  col3  col4  col5  col6\n",
            "row1   NaN   NaN   NaN   NaN   NaN   NaN\n",
            "row2   NaN   NaN   NaN   NaN   NaN   NaN\n",
            "row3   NaN   NaN   NaN   NaN   NaN   NaN\n",
            "row4   NaN   NaN   NaN   NaN   NaN   NaN\n",
            "row5   NaN   NaN   NaN   NaN   NaN   NaN\n"
          ]
        }
      ]
    },
    {
      "cell_type": "code",
      "source": [
        "import pandas as pd\n",
        "data = [\n",
        "\t{'a': 1, 'b': 2},\n",
        "\t{'a': 5, 'b': 10, 'c': 20},\n",
        "\t{'a': 35, 'b': 40, 'c': 50, 'd': 66},\n",
        "\t{'a': 3, 'b': 4, 'c': 5, 'd': 6, 'e':7},\n",
        "\t{'a': 13, 'b': 24, 'c': 35, 'd': 46, 'e':57, 'f':66}\n",
        "\t]\n",
        "df_1 = pd.DataFrame(data)\n",
        "df_7 = pd.DataFrame(data, index=['row1','row2','row3','row4','row5'], columns=['col1','col2','col3','col4','col5','col6'])\n",
        "print(df_1)\n",
        "print(df_7)"
      ],
      "metadata": {
        "colab": {
          "base_uri": "https://localhost:8080/"
        },
        "id": "muBR8IBDTKRd",
        "outputId": "9b79d229-d62d-42e5-e010-0a913ca660d9"
      },
      "execution_count": null,
      "outputs": [
        {
          "output_type": "stream",
          "name": "stdout",
          "text": [
            "    a   b     c     d     e     f\n",
            "0   1   2   NaN   NaN   NaN   NaN\n",
            "1   5  10  20.0   NaN   NaN   NaN\n",
            "2  35  40  50.0  66.0   NaN   NaN\n",
            "3   3   4   5.0   6.0   7.0   NaN\n",
            "4  13  24  35.0  46.0  57.0  66.0\n",
            "      col1  col2  col3  col4  col5  col6\n",
            "row1   NaN   NaN   NaN   NaN   NaN   NaN\n",
            "row2   NaN   NaN   NaN   NaN   NaN   NaN\n",
            "row3   NaN   NaN   NaN   NaN   NaN   NaN\n",
            "row4   NaN   NaN   NaN   NaN   NaN   NaN\n",
            "row5   NaN   NaN   NaN   NaN   NaN   NaN\n"
          ]
        }
      ]
    }
  ]
}