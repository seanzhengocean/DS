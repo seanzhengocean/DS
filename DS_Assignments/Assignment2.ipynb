{
  "nbformat": 4,
  "nbformat_minor": 0,
  "metadata": {
    "colab": {
      "provenance": []
    },
    "kernelspec": {
      "name": "python3",
      "display_name": "Python 3"
    },
    "language_info": {
      "name": "python"
    }
  },
  "cells": [
    {
      "cell_type": "code",
      "execution_count": null,
      "metadata": {
        "colab": {
          "base_uri": "https://localhost:8080/"
        },
        "id": "I6QMhGLdWijP",
        "outputId": "9432bab1-b117-40db-e1d8-7ee93e1da022"
      },
      "outputs": [
        {
          "output_type": "stream",
          "name": "stdout",
          "text": [
            "last disit is 2\n"
          ]
        }
      ],
      "source": [
        "#1) Write a program to find list digit of a number for example 131 the last digit is 1\n",
        "\n",
        "a=4612\n",
        "x=a%10\n",
        "print(\"last disit is\", x)\n",
        "\n"
      ]
    },
    {
      "cell_type": "code",
      "source": [
        "\"\"\"2) Write a program to check criteria of the student according to %\n",
        "\n",
        "Marks                                 GRADES\n",
        "\n",
        "\n",
        "> 90 marks                         A\n",
        "\n",
        "<80 and >=90 marks        B\n",
        "\n",
        "<60 and <= 80 marks       C\n",
        "\n",
        "Below 60                            Failed \"\"\""
      ],
      "metadata": {
        "id": "L_2eMfLClXn3"
      },
      "execution_count": null,
      "outputs": []
    },
    {
      "cell_type": "code",
      "source": [
        "marks= 85\n",
        "if marks > 90:\n",
        "  print('The grade is A')\n",
        "elif marks>80 and marks <=90:\n",
        "  print('The grade is B')\n",
        "elif marks>60 and marks<= 80:\n",
        " print('The grade is c')\n",
        "elif marks< 60:\n",
        "  print('The student is failed')\n",
        "else:\n",
        "  print(\"result not found\")\n"
      ],
      "metadata": {
        "colab": {
          "base_uri": "https://localhost:8080/"
        },
        "id": "l-_hHZ9vlbQJ",
        "outputId": "b354890c-170c-4129-f43c-826e9845f4fa"
      },
      "execution_count": null,
      "outputs": [
        {
          "output_type": "stream",
          "name": "stdout",
          "text": [
            "The grade is B\n"
          ]
        }
      ]
    },
    {
      "cell_type": "code",
      "source": [
        "#3)Write a program to take input between 1-12 and print which month of the year is it?Hint)  1 is January\n",
        "month=int(input(\"enter the number\"))\n",
        "if month ==1:\n",
        "  print(\"The month is January\")\n",
        "elif month ==2:\n",
        "  print(\"The month is February\")\n",
        "elif month ==3:\n",
        "  print(\"The month is March\")\n",
        "elif month ==4:\n",
        "  print(\"The month is April\")\n",
        "elif month ==5:\n",
        "  print(\"The month is May\")\n",
        "elif month ==6:\n",
        "  print(\"The month is June\")\n",
        "elif month ==7:\n",
        "  print(\"The month is July\")\n",
        "elif month ==8:\n",
        "  print(\"The month is August\")\n",
        "elif month ==9:\n",
        "  print(\"The month is September\")\n",
        "elif month ==10:\n",
        "  print(\"The month is October\")\n",
        "elif month ==11:\n",
        "  print(\"The month is November\")\n",
        "elif month ==12:\n",
        "  print(\"The month is December\")\n",
        "else:\n",
        "  print(\"Ivalid\")"
      ],
      "metadata": {
        "id": "6JXRgDjUnia0",
        "colab": {
          "base_uri": "https://localhost:8080/"
        },
        "outputId": "fc97df61-608f-4f35-9172-bc91a564e3e1"
      },
      "execution_count": null,
      "outputs": [
        {
          "output_type": "stream",
          "name": "stdout",
          "text": [
            "enter the number6\n",
            "The month is June\n"
          ]
        }
      ]
    },
    {
      "cell_type": "code",
      "source": [
        "#4)  Write a program to take input between 1-7 and print which day of week it is\n",
        "\n",
        "Hint)  1 is Sunday"
      ],
      "metadata": {
        "id": "QhZa7p2spk45"
      },
      "execution_count": null,
      "outputs": []
    },
    {
      "cell_type": "code",
      "source": [
        "Day=int(input(\"Enter the number\"))\n",
        "if Day ==1:\n",
        "  print(\"The Day is Sunday\")\n",
        "elif Day ==2:\n",
        "  print(\"The Day is Monday\")\n",
        "elif Day ==3:\n",
        "  print(\"The Day is Tuesday\")\n",
        "elif Day ==4:\n",
        "  print(\"The Day is Wednesday\")\n",
        "elif Day ==5:\n",
        "  print(\"The Day is Thursday\")\n",
        "elif Day ==6:\n",
        "  print(\"The Day is Friday\")\n",
        "elif Day ==7:\n",
        "  print(\"The Day is Saturday\")\n",
        "else:\n",
        "  print(\"Ivalid\")"
      ],
      "metadata": {
        "colab": {
          "base_uri": "https://localhost:8080/"
        },
        "id": "_0Q9ta0SrdmO",
        "outputId": "c1af9fab-373a-4116-db26-eeed0b709ab3"
      },
      "execution_count": null,
      "outputs": [
        {
          "output_type": "stream",
          "name": "stdout",
          "text": [
            "Enter the number6\n",
            "The Day is Friday\n"
          ]
        }
      ]
    },
    {
      "cell_type": "code",
      "source": [
        "\"\"\"5)Check which number is greatest and smallest?\n",
        "\n",
        "A= 82\n",
        "\n",
        "B=76\n",
        "\n",
        "C=51\n",
        "\n",
        "D=42\"\"\""
      ],
      "metadata": {
        "id": "l6ZHiiqFsUmY"
      },
      "execution_count": null,
      "outputs": []
    },
    {
      "cell_type": "code",
      "source": [
        "A= 82\n",
        "B=76\n",
        "C=51\n",
        "D=42\n",
        "if A>B and A>C and A>D:\n",
        "  print(\"A is greatest number\",A)\n",
        "elif B>A and B>C and B>D:\n",
        "  print(\"B is greatest number\",B)\n",
        "elif C>B and C>A and C>D:\n",
        "  print(\"C is greatest number\",C)\n",
        "elif D>B and D>C and D>A:\n",
        "  print(\"D is greatest number\",D)"
      ],
      "metadata": {
        "colab": {
          "base_uri": "https://localhost:8080/"
        },
        "id": "HNYj-rIPsWwi",
        "outputId": "5220a68c-4686-4348-9a7b-c3dfd9dd3bac"
      },
      "execution_count": null,
      "outputs": [
        {
          "output_type": "stream",
          "name": "stdout",
          "text": [
            "A is greatest number 82\n"
          ]
        }
      ]
    },
    {
      "cell_type": "code",
      "source": [
        "A= 82\n",
        "B=76\n",
        "C=51\n",
        "D=42\n",
        "if A<B and A<C and A<D:\n",
        "  print(\"A is smaller number\",A)\n",
        "elif B<A and B<C and B<D:\n",
        "  print(\"B is smaller number\",B)\n",
        "elif C<B and C<A and C<D:\n",
        "  print(\"C is smaller number\",C)\n",
        "elif D<B and D<C and D<A:\n",
        "  print(\"D is smaller number\",D)"
      ],
      "metadata": {
        "colab": {
          "base_uri": "https://localhost:8080/"
        },
        "id": "MBIIKoGouoj9",
        "outputId": "04f61e74-d5ed-4076-ca13-7d70554fe3f3"
      },
      "execution_count": null,
      "outputs": [
        {
          "output_type": "stream",
          "name": "stdout",
          "text": [
            "D is smaller number\n"
          ]
        }
      ]
    },
    {
      "cell_type": "code",
      "source": [
        "A= 82\n",
        "B=76\n",
        "C=51\n",
        "D=42\n",
        "X=[A,B,C,D]\n",
        "maxnum = max(X)\n",
        "print(maxnum)\n",
        "minnum = min(X)\n",
        "print(minnum)"
      ],
      "metadata": {
        "colab": {
          "base_uri": "https://localhost:8080/"
        },
        "id": "a8D9l0RxvVHi",
        "outputId": "06d096ca-3c49-46aa-eab1-2893717cec9b"
      },
      "execution_count": null,
      "outputs": [
        {
          "output_type": "stream",
          "name": "stdout",
          "text": [
            "82\n",
            "42\n"
          ]
        }
      ]
    },
    {
      "cell_type": "code",
      "source": [
        "#6) Check if a person is senior citizen or NO?\n",
        "Age=int(input(\"Enter the Age\"))\n",
        "if Age>=65:\n",
        "  print(\"The person is senior citizen\")\n",
        "else:\n",
        "  print(\"The person is not senior citizen\")"
      ],
      "metadata": {
        "colab": {
          "base_uri": "https://localhost:8080/"
        },
        "id": "S-Vb5Wr1wMR4",
        "outputId": "6105eaf4-81e0-47b2-905d-a351cae5b5c6"
      },
      "execution_count": null,
      "outputs": [
        {
          "output_type": "stream",
          "name": "stdout",
          "text": [
            "Enter the Age50\n",
            "The person is not senior citizen\n"
          ]
        }
      ]
    },
    {
      "cell_type": "code",
      "source": [
        "#7) Check if a number is positive or negative\n",
        "num=int(input(\"Enter the Number\"))\n",
        "if num >=0:\n",
        "  print(\"The number is positive\")\n",
        "else:\n",
        "  print(\"The number is negetive\") "
      ],
      "metadata": {
        "colab": {
          "base_uri": "https://localhost:8080/"
        },
        "id": "x9ZNlymM9juU",
        "outputId": "c002504c-83b4-428d-8fc7-815b9413fb4d"
      },
      "execution_count": null,
      "outputs": [
        {
          "output_type": "stream",
          "name": "stdout",
          "text": [
            "Enter the Number5\n",
            "The number is positive\n"
          ]
        }
      ]
    },
    {
      "cell_type": "code",
      "source": [
        "#8) Check if a number is divisible by both 2 and 3\n",
        "num1=int(input(\"Enter the Number\"))\n",
        "if num1%2==0 and num1%3==0:\n",
        "  print(\"The number is divisible by 2 and 3\")\n",
        "else:\n",
        "  print(\"The number is not divisible by 2 and 3\") "
      ],
      "metadata": {
        "colab": {
          "base_uri": "https://localhost:8080/"
        },
        "id": "JtJHzlPU-3D4",
        "outputId": "d7e87db2-dc70-4cc5-8198-d707c3a91488"
      },
      "execution_count": null,
      "outputs": [
        {
          "output_type": "stream",
          "name": "stdout",
          "text": [
            "Enter the Number10\n",
            "The number is not divisible by 2 and 3\n"
          ]
        }
      ]
    },
    {
      "cell_type": "code",
      "source": [
        "#Check if a character entered is a vowel or not\n",
        "chr1=input(\"Enter the letter \")\n",
        "if (chr1=='a' or chr1=='A' or chr1=='e' or chr1=='E' or chr1=='i'or chr1=='I' or chr1=='o' or chr1=='O' or chr1=='u' or chr1=='U'):\n",
        "  print(\"The letter is vowel\")\n",
        "else:\n",
        "  print(\"The letter is not vowel\") \n"
      ],
      "metadata": {
        "colab": {
          "base_uri": "https://localhost:8080/"
        },
        "id": "o6yzZFqS_3nc",
        "outputId": "9413a923-ed91-408e-edb7-3e362e7960bf"
      },
      "execution_count": null,
      "outputs": [
        {
          "output_type": "stream",
          "name": "stdout",
          "text": [
            "Enter the letter fgf\n",
            "The letter is not vowel\n"
          ]
        }
      ]
    },
    {
      "cell_type": "code",
      "source": [
        "Tell which person is the youngest and oldest\n",
        "\n",
        " \n",
        "\n",
        "Messi=82\n",
        "\n",
        "Ronaldo=91\n",
        "\n",
        "Ronaldino=62\n",
        "\n",
        "Neymar=51"
      ],
      "metadata": {
        "id": "WocqUzGiCHrn"
      },
      "execution_count": null,
      "outputs": []
    },
    {
      "cell_type": "code",
      "source": [
        "Messi=82\n",
        "Ronaldo=91\n",
        "Ronaldino=62\n",
        "Neymar=51\n",
        "if Messi>Ronaldo and Messi>Ronaldino and Messi>Neymar:\n",
        "  print(\"Messi is oldest number\",Messi)\n",
        "elif Ronaldo>Messi and Ronaldo>Ronaldino and Ronaldo>Neymar:\n",
        "  print(\"Ronaldo is oldest number\",Ronaldo)\n",
        "elif Ronaldino>Ronaldo and Ronaldino>Messi and Ronaldino>Neymar:\n",
        "  print(\"Ronaldino is oldest number\",Ronaldino)\n",
        "elif Neymar>Ronaldo and Neymar>Ronaldino and Neymar>Messi:\n",
        "  print(\"Neymar is oldest number\",Neymar)"
      ],
      "metadata": {
        "colab": {
          "base_uri": "https://localhost:8080/"
        },
        "id": "MhCnWS7ZCNcU",
        "outputId": "eaa05ee7-899f-4f66-fa05-ca0ed18cdbbd"
      },
      "execution_count": null,
      "outputs": [
        {
          "output_type": "stream",
          "name": "stdout",
          "text": [
            "Ronaldo is oldest number 91\n"
          ]
        }
      ]
    },
    {
      "cell_type": "code",
      "source": [
        "Messi=82\n",
        "Ronaldo=91\n",
        "Ronaldino=62\n",
        "Neymar=51\n",
        "if Messi<Ronaldo and Messi<Ronaldino and Messi<Neymar:\n",
        "  print(\"Messi is youngest number\",Messi)\n",
        "elif Ronaldo<Messi and Ronaldo<Ronaldino and Ronaldo<Neymar:\n",
        "  print(\"Ronaldo is youngest number\",Ronaldo)\n",
        "elif Ronaldino<Ronaldo and Ronaldino<Messi and Ronaldino<Neymar:\n",
        "  print(\"Ronaldino is youngest number\",Ronaldino)\n",
        "elif Neymar<Ronaldo and Neymar<Ronaldino and Neymar<Messi:\n",
        "  print(\"Neymar is youngest number\",Neymar)"
      ],
      "metadata": {
        "colab": {
          "base_uri": "https://localhost:8080/"
        },
        "id": "EEuYo5wcDpj_",
        "outputId": "4ff2aaa0-92b3-4d68-ba9a-b64313ae2f42"
      },
      "execution_count": null,
      "outputs": [
        {
          "output_type": "stream",
          "name": "stdout",
          "text": [
            "Neymar is youngest number 51\n"
          ]
        }
      ]
    },
    {
      "cell_type": "code",
      "source": [
        "Messi=82\n",
        "Ronaldo=91\n",
        "Ronaldino=62\n",
        "Neymar=51\n",
        "X=[Messi,Ronaldo,Ronaldino,Neymar]\n",
        "maxnum = max(X)\n",
        "print(maxnum)\n",
        "minnum = min(X)\n",
        "print(minnum)"
      ],
      "metadata": {
        "colab": {
          "base_uri": "https://localhost:8080/"
        },
        "id": "E5VCFvkbEMpt",
        "outputId": "686a0612-f1c1-429c-9bd5-5ebb3399dd3f"
      },
      "execution_count": null,
      "outputs": [
        {
          "output_type": "stream",
          "name": "stdout",
          "text": [
            "91\n",
            "51\n"
          ]
        }
      ]
    },
    {
      "cell_type": "code",
      "source": [
        " "
      ],
      "metadata": {
        "id": "ET_iBQWWun8x"
      },
      "execution_count": null,
      "outputs": []
    }
  ]
}