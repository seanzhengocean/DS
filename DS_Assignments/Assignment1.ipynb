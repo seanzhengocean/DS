{
  "nbformat": 4,
  "nbformat_minor": 0,
  "metadata": {
    "colab": {
      "provenance": []
    },
    "kernelspec": {
      "name": "python3",
      "display_name": "Python 3"
    },
    "language_info": {
      "name": "python"
    }
  },
  "cells": [
    {
      "cell_type": "code",
      "execution_count": null,
      "metadata": {
        "colab": {
          "base_uri": "https://localhost:8080/"
        },
        "id": "RBFtfioKEy9u",
        "outputId": "e8ecbcd6-de33-45e2-d637-030c1a0fc76b"
      },
      "outputs": [
        {
          "output_type": "stream",
          "name": "stdout",
          "text": [
            "[1, 2, 3, 4]\n",
            "[5, 6, 7, 8]\n"
          ]
        }
      ],
      "source": [
        "#a=[1,2,3,4,5,6,7,8] Divide this list in two equal paths\n",
        "a=[1,2,3,4,5,6,7,8]\n",
        "mid1=len(a)//2\n",
        "a1=a[:]\n",
        "a2=a[4:]\n",
        "print(a1)\n",
        "print(a2)\n"
      ]
    },
    {
      "cell_type": "code",
      "source": [
        "#c=[1,2,3,4,5,1,2,3,'a','b',['h','a']] find count of all elements in this list\n",
        "c = [1,2,3,4,5,1,2,3,'a','b',['h','a']]\n",
        "pop1=c.pop()\n",
        "#c.extend(pop1)\n",
        "c=c+pop1\n",
        "print('extended',c)\n",
        "print(set(c))\n",
        "print(len(c))\n",
        "print(c.count(1))\n",
        "print(c.count(2))\n",
        "print(c.count(3))\n",
        "print(c.count(4))\n",
        "print(c.count(5))\n",
        "print(c.count('a'))\n",
        "print(c.count('b'))\n",
        "print(c.count('h'))"
      ],
      "metadata": {
        "colab": {
          "base_uri": "https://localhost:8080/"
        },
        "id": "E4wFM0PsIjEE",
        "outputId": "eeccca70-c6b3-4f1a-ee18-1bb0f1668cd6"
      },
      "execution_count": null,
      "outputs": [
        {
          "output_type": "stream",
          "name": "stdout",
          "text": [
            "extended [1, 2, 3, 4, 5, 1, 2, 3, 'a', 'b', 'h', 'a']\n",
            "{1, 2, 3, 4, 5, 'a', 'h', 'b'}\n",
            "12\n",
            "2\n",
            "2\n",
            "2\n",
            "1\n",
            "1\n",
            "2\n",
            "1\n",
            "1\n"
          ]
        }
      ]
    },
    {
      "cell_type": "code",
      "source": [
        "#Write a Python program to reverse a string \"11abcdeghsuyy\"\n",
        "a=\"11abcdeghsuyy\"\n",
        "a[len(a)::-1]"
      ],
      "metadata": {
        "colab": {
          "base_uri": "https://localhost:8080/",
          "height": 37
        },
        "id": "7JpD1Zw_IvGc",
        "outputId": "4b9ef47a-4031-4d8d-d3c5-73a7c59bf311"
      },
      "execution_count": null,
      "outputs": [
        {
          "output_type": "execute_result",
          "data": {
            "text/plain": [
              "'yyushgedcba11'"
            ],
            "application/vnd.google.colaboratory.intrinsic+json": {
              "type": "string"
            }
          },
          "metadata": {},
          "execution_count": 10
        }
      ]
    },
    {
      "cell_type": "code",
      "source": [
        "#Write a program to insert number 88 on 2nd index of this list and number on 2nd index should move to last index of the lista=[1,2,3,4,5,7] Expected Output= [1,2,88,4,5,7,3]\n",
        "a=[1,2,3,4,5,7]\n",
        "pop1=a.pop(2)\n",
        "#a[2]=88\n",
        "a.insert(2,88)\n",
        "print(a)\n",
        "a.append(3)\n",
        "print(a)\n"
      ],
      "metadata": {
        "colab": {
          "base_uri": "https://localhost:8080/"
        },
        "id": "HmVVkdUuI9QC",
        "outputId": "96c7b85c-a90f-407d-fa34-40f0fef00d41"
      },
      "execution_count": null,
      "outputs": [
        {
          "output_type": "stream",
          "name": "stdout",
          "text": [
            "[1, 2, 88, 4, 5, 7]\n",
            "[1, 2, 88, 4, 5, 7, 3]\n"
          ]
        }
      ]
    }
  ]
}